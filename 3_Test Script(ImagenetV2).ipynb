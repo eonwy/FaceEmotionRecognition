{
 "cells": [
  {
   "cell_type": "code",
   "execution_count": 1,
   "id": "877672ee",
   "metadata": {},
   "outputs": [],
   "source": [
    "# 필요한 모듈 import하기\n",
    "from keras.utils import np_utils\n",
    "from keras.datasets import mnist\n",
    "from keras.models import Sequential\n",
    "from keras.layers import Dense, Activation\n",
    "import numpy as np\n",
    "from numpy import argmax\n",
    "from keras.models import load_model\n",
    "\n",
    "import tensorflow_hub as hub"
   ]
  },
  {
   "cell_type": "code",
   "execution_count": 2,
   "id": "35cd6cc0",
   "metadata": {},
   "outputs": [
    {
     "name": "stdout",
     "output_type": "stream",
     "text": [
      "Model: \"sequential\"\n",
      "_________________________________________________________________\n",
      " Layer (type)                Output Shape              Param #   \n",
      "=================================================================\n",
      " keras_layer (KerasLayer)    (None, 1280)              5919312   \n",
      "                                                                 \n",
      " dense (Dense)               (None, 7)                 8967      \n",
      "                                                                 \n",
      "=================================================================\n",
      "Total params: 5,928,279\n",
      "Trainable params: 5,867,671\n",
      "Non-trainable params: 60,608\n",
      "_________________________________________________________________\n"
     ]
    }
   ],
   "source": [
    "# 이전에 학습된 모델 불러오기 \n",
    "model = load_model('emotion_model_imagenet.h5',custom_objects={'KerasLayer':hub.KerasLayer})\n",
    "model.summary()"
   ]
  },
  {
   "cell_type": "code",
   "execution_count": 3,
   "id": "9fe9f049",
   "metadata": {},
   "outputs": [],
   "source": [
    "# 이미지 파일을 위한 라이브러리\n",
    "import os\n",
    "from PIL import Image\n",
    "import glob\n",
    "from tensorflow.keras.applications. import preprocess_input, decode_predictions\n",
    "from tensorflow.keras.preprocessing.image import load_img, img_to_array\n",
    "import matplotlib.pyplot as plt"
   ]
  },
  {
   "cell_type": "code",
   "execution_count": 6,
   "id": "c66f8145",
   "metadata": {},
   "outputs": [
    {
     "name": "stdout",
     "output_type": "stream",
     "text": [
      "model이 예측한 1번쨰 사진의 감정은 sad입니다.\n",
      "model이 예측한 2번쨰 사진의 감정은 sad입니다.\n",
      "model이 예측한 3번쨰 사진의 감정은 neutral입니다.\n",
      "model이 예측한 4번쨰 사진의 감정은 sad입니다.\n",
      "model이 예측한 5번쨰 사진의 감정은 neutral입니다.\n",
      "model이 예측한 6번쨰 사진의 감정은 sad입니다.\n",
      "model이 예측한 7번쨰 사진의 감정은 sad입니다.\n",
      "model이 예측한 8번쨰 사진의 감정은 sad입니다.\n",
      "model이 예측한 9번쨰 사진의 감정은 sad입니다.\n",
      "model이 예측한 10번쨰 사진의 감정은 sad입니다.\n",
      "model이 예측한 11번쨰 사진의 감정은 sad입니다.\n",
      "model이 예측한 12번쨰 사진의 감정은 sad입니다.\n",
      "model이 예측한 13번쨰 사진의 감정은 sad입니다.\n",
      "model이 예측한 14번쨰 사진의 감정은 sad입니다.\n"
     ]
    }
   ],
   "source": [
    "# 이미지 파일의 경로 설정하기\n",
    "path = 'datasets_test'\n",
    "img_li = glob.glob(path+\"\\\\*\")\n",
    "\n",
    "# test image 폴더에 접근하며 사진별로 testing\n",
    "for i in range(len(img_li)):\n",
    "    img_path = img_li[i]\n",
    "    img = load_img(img_path, target_size = (48,48)) # 이미지 형태 맞춰주기 위해 keras 모듈의 함수 사용함\n",
    "\n",
    "    # Model에 입력하기 전에 이미지 전처리\n",
    "    model_img = img_to_array(img) # 배열 형태로 변환\n",
    "    model_img = np.expand_dims(model_img, axis=0) # 차원 증폭\n",
    "    model_img = preprocess_input(model_img) # 이미지를 모델에 학습시키기 전 전처리(Keras 모듈의 전처리기 이용)\n",
    "    \n",
    "    preds = model.predict(model_img) # 원-힛 인코딩 형태로 넘어옴\n",
    "    emotion_idx = np.argmax(preds,-1) # 인덱스 값 돌려줌.(몇 번쨰 감정이 정답인지 = 해당 감정인지)\n",
    "    \n",
    "    # 인덱스에 따라 감정 매칭\n",
    "    # 어떻게 간단히 할 수 있는지는 조금 고민이에요..\n",
    "    \n",
    "    if emotion_idx == 0:\n",
    "        emotion = 'angry'\n",
    "    elif emotion_idx == 1:\n",
    "        emotion = 'disgust'\n",
    "    elif emotion_idx == 2:\n",
    "        emotion = 'fear'\n",
    "    elif emotion_idx == 3:\n",
    "        emotion = 'happy'\n",
    "    elif emotion_idx == 4:\n",
    "        emotion = 'neutral'\n",
    "    elif emotion_idx == 5:\n",
    "        emotion = 'sad'\n",
    "    elif emotion_idx == 6:\n",
    "        emotion = 'surprise'\n",
    "        \n",
    "    print('model이 예측한 {}번쨰 사진의 감정은 {}입니다.'.format((i+1),emotion))"
   ]
  },
  {
   "cell_type": "markdown",
   "id": "037b7878",
   "metadata": {},
   "source": [
    "이 친구는 왜 다 sad로 난리를 칠까요..^^(환장..)"
   ]
  }
 ],
 "metadata": {
  "kernelspec": {
   "display_name": "Python 3 (ipykernel)",
   "language": "python",
   "name": "python3"
  },
  "language_info": {
   "codemirror_mode": {
    "name": "ipython",
    "version": 3
   },
   "file_extension": ".py",
   "mimetype": "text/x-python",
   "name": "python",
   "nbconvert_exporter": "python",
   "pygments_lexer": "ipython3",
   "version": "3.8.9"
  }
 },
 "nbformat": 4,
 "nbformat_minor": 5
}
