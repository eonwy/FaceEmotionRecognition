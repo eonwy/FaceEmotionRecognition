{
 "cells": [
  {
   "cell_type": "code",
   "execution_count": 1,
   "id": "f74642df",
   "metadata": {
    "id": "f74642df"
   },
   "outputs": [],
   "source": [
    "# 필요한 모듈 import하기\n",
    "\n",
    "from tensorflow import keras\n",
    "from tensorflow.keras import layers\n",
    "from tensorflow.keras import activations\n",
    "from tensorflow.keras.applications import EfficientNetB0\n",
    "\n",
    "from glob import glob\n",
    "from pprint import pprint\n",
    "\n",
    "import os\n",
    "import math\n",
    "import cv2\n",
    "import numpy as np\n",
    "import pandas as pd\n",
    "import matplotlib.pyplot as plt\n",
    "import tensorflow as tf\n",
    "import tensorflow_hub as hub"
   ]
  },
  {
   "cell_type": "code",
   "execution_count": 2,
   "id": "10192dde",
   "metadata": {
    "id": "10192dde",
    "outputId": "569b8572-51e1-4094-c34b-c652b1fcbfe7",
    "scrolled": true
   },
   "outputs": [
    {
     "data": {
      "image/png": "[encoded data removed]",
      "text/plain": [
       "<Figure size 720x360 with 1 Axes>"
      ]
     },
     "metadata": {
      "needs_background": "light"
     },
     "output_type": "display_data"
    }
   ],
   "source": [
    "csv_path = './feelings_skfold2.csv'\n",
    "df = pd.read_csv(csv_path)\n",
    "np.unique(df['emotion'])\n",
    "\n",
    "value_counts = df['emotion'].value_counts().sort_index()\n",
    "plt.figure(figsize=(10, 5))\n",
    "plt.bar(range(len(value_counts)), value_counts.values)\n",
    "plt.xticks(range(len(value_counts)), value_counts.index.values)\n",
    "plt.tight_layout()\n",
    "plt.show()"
   ]
  },
  {
   "cell_type": "markdown",
   "id": "c3c8512a",
   "metadata": {
    "id": "c3c8512a"
   },
   "source": [
    "# 1. Model 정의하기"
   ]
  },
  {
   "cell_type": "markdown",
   "id": "40dbbd39",
   "metadata": {
    "id": "40dbbd39"
   },
   "source": [
    "* binary crossentropy : binary 다중 분류 손실 함수 -> label들이 독립적일 때 사용함\n",
    "* categorical_crossentropy : 다중 분류 손실 함수, 출력값이 one-hot encoding된 결과로 나옴\n",
    "* (정답에만 1으로 표시하고, 나머지는 0으로)\n",
    "* 각 샘플이 정확히 하나의 클래스에 속하는 경우 사용한다.\n",
    "* sparse_categorical_crossentropy : 다중 분류 손실 함수, one - hot - encoding을 하지 않고 정수 형태로 넣어줌, 한 샘플에 여러 클래스가 있거나 label이 soft 확률일 경우 사용"
   ]
  },
  {
   "cell_type": "markdown",
   "id": "b98f6d39",
   "metadata": {
    "id": "b98f6d39"
   },
   "source": [
    "* softmax\n",
    "- 출력은 0 ~ 1 사이의 실수\n",
    "- 출력을 확률로 해석할 수 있음\n",
    "- 출력의 총합은 1이다."
   ]
  },
  {
   "cell_type": "markdown",
   "id": "ae9940d2",
   "metadata": {
    "id": "ae9940d2"
   },
   "source": [
    "# Tensorflow Hub"
   ]
  },
  {
   "cell_type": "markdown",
   "id": "4deb41cd",
   "metadata": {
    "id": "4deb41cd"
   },
   "source": [
    "* https://tfhub.dev/\n",
    "* 조정 및 배포 가능한 학습된 머신러닝 모델의 저장소\n",
    "* 단 몇 줄의 코드만으로 BERT 및 CNN과 같은 학습된 모델을 재사용할 수 있음"
   ]
  },
  {
   "cell_type": "code",
   "execution_count": 3,
   "id": "d447063b",
   "metadata": {
    "id": "d447063b",
    "outputId": "c209981a-711c-4e9d-a9f5-b31da0f53fd2",
    "scrolled": true
   },
   "outputs": [
    {
     "name": "stdout",
     "output_type": "stream",
     "text": [
      "Model: \"sequential\"\n",
      "_________________________________________________________________\n",
      " Layer (type)                Output Shape              Param #   \n",
      "=================================================================\n",
      " keras_layer (KerasLayer)    (None, 1280)              5919312   \n",
      "                                                                 \n",
      " dense (Dense)               (None, 7)                 8967      \n",
      "                                                                 \n",
      "=================================================================\n",
      "Total params: 5,928,279\n",
      "Trainable params: 5,867,671\n",
      "Non-trainable params: 60,608\n",
      "_________________________________________________________________\n"
     ]
    },
    {
     "name": "stderr",
     "output_type": "stream",
     "text": [
      "c:\\users\\bin\\appdata\\local\\programs\\python\\python38\\lib\\site-packages\\keras\\optimizer_v2\\adam.py:105: UserWarning: The `lr` argument is deprecated, use `learning_rate` instead.\n",
      "  super(Adam, self).__init__(name, **kwargs)\n"
     ]
    }
   ],
   "source": [
    "model = tf.keras.Sequential([\n",
    "    hub.KerasLayer(\"https://tfhub.dev/google/imagenet/efficientnet_v2_imagenet1k_b0/feature_vector/2\",\n",
    "                  trainable = True), # tensorflow hub 불러오기\n",
    "    tf.keras.layers.Dense(7,activation = 'softmax')\n",
    "])\n",
    "model.build([None,48,48,3]) # 4차원 형태\n",
    "\n",
    "adam = keras.optimizers.Adam(lr = 0.0001)\n",
    "model.compile(\n",
    "    optimizer = adam,\n",
    "    loss = 'sparse_categorical_crossentropy', # 정수 형태로 label 가져옴\n",
    "    metrics = 'accuracy'\n",
    ")\n",
    "model.summary()"
   ]
  },
  {
   "cell_type": "code",
   "execution_count": 4,
   "id": "5794511c",
   "metadata": {
    "id": "5794511c"
   },
   "outputs": [],
   "source": [
    "import albumentations as A\n",
    "\n",
    "# Albumentation class 생성하기\n",
    "class Augmentation:\n",
    "    def __init__(self, size, mode='train'):\n",
    "        if mode == 'train':\n",
    "            self.transform = A.Compose([\n",
    "                # 수평 전환\n",
    "                A.HorizontalFlip(p=0.5),\n",
    "                # 이동, 크기, 회전을 설정\n",
    "                A.ShiftScaleRotate(\n",
    "                    p=0.5,\n",
    "                    shift_limit=0.05,\n",
    "                    scale_limit=0.05,\n",
    "                    rotate_limit=15\n",
    "                ),\n",
    "                # 구멍을 dropout 하게됨\n",
    "                A.CoarseDropout(\n",
    "                    p=0.5,\n",
    "                    max_holes=8, # 최대 8개의 구멍을 dropout 시킴\n",
    "                    max_height=int(0.1 * size),\n",
    "                    max_width=int(0.1 * size)\n",
    "                ),\n",
    "                A.RandomBrightnessContrast(p=0.2) # 밝기 대비\n",
    "            ])\n",
    "    \n",
    "    def __call__(self, **kwargs): # callback 함수: 클래스의 객체를 생성한 이후 객체를 호출할 떄 자동으로 실행되는 함수\n",
    "        if self.transform:\n",
    "            augmented = self.transform(**kwargs) # **kwargs : 가변 인수(파라미터의 개수에 제한을 두지 않겠다.)\n",
    "            img = augmented['image'] # 증폭된 이미지\n",
    "            return img "
   ]
  },
  {
   "cell_type": "code",
   "execution_count": 5,
   "id": "b159bc93",
   "metadata": {
    "id": "b159bc93",
    "outputId": "47d86c8c-0c17-4fdd-9624-4b0a79bd4c6a",
    "scrolled": true
   },
   "outputs": [
    {
     "name": "stdout",
     "output_type": "stream",
     "text": [
      "array(['angry', 'disgust', 'fear', 'happy', 'neutral', 'sad', 'surprise'],\n",
      "      dtype=object)\n",
      "{'angry': 0,\n",
      " 'disgust': 1,\n",
      " 'fear': 2,\n",
      " 'happy': 3,\n",
      " 'neutral': 4,\n",
      " 'sad': 5,\n",
      " 'surprise': 6}\n"
     ]
    }
   ],
   "source": [
    "csv_path = './feelings_skfold2.csv'\n",
    "\n",
    "LABEL_INT_DICT = np.unique(pd.read_csv(csv_path)['emotion'])\n",
    "pprint(LABEL_INT_DICT) # 데이터의 타입과 형태 등도 같이 보여준다.(조금 더 예쁘게 출력해준다?)\n",
    "LABEL_STR_DICT = {k:v for v,k in enumerate(LABEL_INT_DICT)}\n",
    "pprint(LABEL_STR_DICT)"
   ]
  },
  {
   "cell_type": "code",
   "execution_count": 6,
   "id": "f189b98d",
   "metadata": {
    "id": "f189b98d"
   },
   "outputs": [],
   "source": [
    "class DataGenerator(keras.utils.Sequence):\n",
    "    def __init__(self, batch_size, csv_path, fold, image_size, mode='train', shuffle=True):\n",
    "        self.batch_size = batch_size\n",
    "        self.fold = fold\n",
    "        self.image_size = image_size\n",
    "        self.mode = mode\n",
    "        self.shuffle = shuffle\n",
    "        \n",
    "        self.df = pd.read_csv(csv_path)\n",
    "        \n",
    "        if self.mode == 'train':\n",
    "            self.df = self.df[self.df['fold'] != self.fold]\n",
    "        elif self.mode == 'val':\n",
    "            self.df = self.df[self.df['fold'] == self.fold]\n",
    "            \n",
    "        self.transform = Augmentation(image_size, mode)\n",
    "        \n",
    "        self.on_epoch_end()\n",
    "\n",
    "        \n",
    "    def on_epoch_end(self):\n",
    "        if self.shuffle: # shuffle = True라면(df 앞의 인덱스를 지워주는 기능\n",
    "            self.df = self.df.sample(frac=1).reset_index(drop=True)\n",
    "    # len()\n",
    "    def __len__(self):\n",
    "            return math.ceil(len(self.df) / self.batch_size)\n",
    "\n",
    "    def __getitem__(self, idx):\n",
    "        strt = idx * self.batch_size\n",
    "        fin = (idx + 1) * self.batch_size\n",
    "        data = self.df.iloc[strt:fin]\n",
    "        batch_x, batch_y = self.get_data(data)\n",
    "        return np.array(batch_x), np.array(batch_y)\n",
    "        \n",
    "    def get_data(self, data):\n",
    "        batch_x = []\n",
    "        batch_y = []\n",
    "        \n",
    "        for _, r in data.iterrows():\n",
    "            file_name = r['file_name']\n",
    "            img_folder = r['emotion'] # type = np.str_\n",
    "\n",
    "            image = cv2.imread(f'datasets2/{img_folder}/{file_name}.jpg',cv2.IMREAD_GRAYSCALE)\n",
    "            image = cv2.cvtColor(image, cv2.COLOR_BGR2RGB)\n",
    "            image = cv2.resize(image, (self.image_size, self.image_size))\n",
    "            \n",
    "            if self.mode == 'train':\n",
    "                image = image.astype('uint8') # 정수로 형변환\n",
    "                image = self.transform(image=image)\n",
    "\n",
    "            image = image.astype('float32') # 실수로 다시 형변환         \n",
    "            image = image / 255.\n",
    "\n",
    "            \n",
    "            emotion = str(img_folder)\n",
    "            emotion = LABEL_STR_DICT[emotion]\n",
    "            \n",
    "            batch_x.append(image)\n",
    "            batch_y.append(emotion)\n",
    "        \n",
    "        return batch_x, batch_y"
   ]
  },
  {
   "cell_type": "code",
   "execution_count": 7,
   "id": "70752f06",
   "metadata": {
    "id": "70752f06"
   },
   "outputs": [],
   "source": [
    "csv_path = './feelings_skfold2.csv'\n",
    "\n",
    "train_generator = DataGenerator(\n",
    "    batch_size = 128,\n",
    "    csv_path = csv_path,\n",
    "    fold = 1,\n",
    "    image_size = 48,\n",
    "    mode = 'train',\n",
    "    shuffle = True\n",
    ")\n",
    "\n",
    "valid_generator = DataGenerator(\n",
    "    batch_size = 128,\n",
    "    csv_path = csv_path,\n",
    "    fold = 1, \n",
    "    image_size = 48,\n",
    "    mode = 'val',\n",
    "    shuffle = True\n",
    ")"
   ]
  },
  {
   "cell_type": "code",
   "execution_count": 8,
   "id": "b3c5201d",
   "metadata": {
    "id": "b3c5201d",
    "outputId": "5a01ccbe-be3d-4264-aa2e-3b0a18624bc3"
   },
   "outputs": [
    {
     "name": "stdout",
     "output_type": "stream",
     "text": [
      "Epoch 1/50\n",
      "111/111 [==============================] - 73s 600ms/step - loss: 2.0656 - accuracy: 0.1719 - val_loss: 1.9027 - val_accuracy: 0.2373\n",
      "Epoch 2/50\n",
      "111/111 [==============================] - 66s 595ms/step - loss: 1.9349 - accuracy: 0.2237 - val_loss: 1.7816 - val_accuracy: 0.3078\n",
      "Epoch 3/50\n",
      "111/111 [==============================] - 66s 596ms/step - loss: 1.8335 - accuracy: 0.2820 - val_loss: 1.6621 - val_accuracy: 0.3598\n",
      "Epoch 4/50\n",
      "111/111 [==============================] - 68s 614ms/step - loss: 1.7575 - accuracy: 0.3200 - val_loss: 1.5890 - val_accuracy: 0.3956\n",
      "Epoch 5/50\n",
      "111/111 [==============================] - 66s 599ms/step - loss: 1.6788 - accuracy: 0.3545 - val_loss: 1.5161 - val_accuracy: 0.4224\n",
      "Epoch 6/50\n",
      "111/111 [==============================] - 66s 596ms/step - loss: 1.6149 - accuracy: 0.3870 - val_loss: 1.4700 - val_accuracy: 0.4517\n",
      "Epoch 7/50\n",
      "111/111 [==============================] - 66s 595ms/step - loss: 1.5703 - accuracy: 0.4037 - val_loss: 1.4194 - val_accuracy: 0.4698\n",
      "Epoch 8/50\n",
      "111/111 [==============================] - 66s 597ms/step - loss: 1.5109 - accuracy: 0.4293 - val_loss: 1.3767 - val_accuracy: 0.4842\n",
      "Epoch 9/50\n",
      "111/111 [==============================] - 66s 597ms/step - loss: 1.4559 - accuracy: 0.4514 - val_loss: 1.3523 - val_accuracy: 0.4924\n",
      "Epoch 10/50\n",
      "111/111 [==============================] - 66s 596ms/step - loss: 1.4177 - accuracy: 0.4709 - val_loss: 1.3206 - val_accuracy: 0.5104\n",
      "Epoch 11/50\n",
      "111/111 [==============================] - 66s 597ms/step - loss: 1.3799 - accuracy: 0.4864 - val_loss: 1.2979 - val_accuracy: 0.5260\n",
      "Epoch 12/50\n",
      "111/111 [==============================] - 66s 596ms/step - loss: 1.3395 - accuracy: 0.5006 - val_loss: 1.2776 - val_accuracy: 0.5274\n",
      "Epoch 13/50\n",
      "111/111 [==============================] - 66s 596ms/step - loss: 1.3016 - accuracy: 0.5133 - val_loss: 1.2576 - val_accuracy: 0.5389\n",
      "Epoch 14/50\n",
      "111/111 [==============================] - 66s 595ms/step - loss: 1.2687 - accuracy: 0.5272 - val_loss: 1.2359 - val_accuracy: 0.5468\n",
      "Epoch 15/50\n",
      "111/111 [==============================] - 66s 597ms/step - loss: 1.2393 - accuracy: 0.5385 - val_loss: 1.2124 - val_accuracy: 0.5542\n",
      "Epoch 16/50\n",
      "111/111 [==============================] - 66s 596ms/step - loss: 1.2199 - accuracy: 0.5434 - val_loss: 1.2038 - val_accuracy: 0.5581\n",
      "Epoch 17/50\n",
      "111/111 [==============================] - 66s 596ms/step - loss: 1.1902 - accuracy: 0.5549 - val_loss: 1.1895 - val_accuracy: 0.5660\n",
      "Epoch 18/50\n",
      "111/111 [==============================] - 66s 596ms/step - loss: 1.1685 - accuracy: 0.5664 - val_loss: 1.1813 - val_accuracy: 0.5700\n",
      "Epoch 19/50\n",
      "111/111 [==============================] - 66s 596ms/step - loss: 1.1369 - accuracy: 0.5788 - val_loss: 1.1782 - val_accuracy: 0.5714\n",
      "Epoch 20/50\n",
      "111/111 [==============================] - 66s 595ms/step - loss: 1.1049 - accuracy: 0.5907 - val_loss: 1.1661 - val_accuracy: 0.5756\n",
      "Epoch 21/50\n",
      "111/111 [==============================] - 66s 596ms/step - loss: 1.0739 - accuracy: 0.6064 - val_loss: 1.1624 - val_accuracy: 0.5779\n",
      "Epoch 22/50\n",
      "111/111 [==============================] - 66s 595ms/step - loss: 1.0633 - accuracy: 0.6115 - val_loss: 1.1502 - val_accuracy: 0.5883\n",
      "Epoch 23/50\n",
      "111/111 [==============================] - 66s 596ms/step - loss: 1.0318 - accuracy: 0.6227 - val_loss: 1.1571 - val_accuracy: 0.5917\n",
      "Epoch 24/50\n",
      "111/111 [==============================] - 66s 596ms/step - loss: 1.0105 - accuracy: 0.6268 - val_loss: 1.1412 - val_accuracy: 0.5942\n",
      "Epoch 25/50\n",
      "111/111 [==============================] - 66s 595ms/step - loss: 0.9888 - accuracy: 0.6411 - val_loss: 1.1454 - val_accuracy: 0.5917\n",
      "Epoch 26/50\n",
      "111/111 [==============================] - 66s 597ms/step - loss: 0.9656 - accuracy: 0.6434 - val_loss: 1.1512 - val_accuracy: 0.5968\n",
      "Epoch 27/50\n",
      "111/111 [==============================] - 66s 596ms/step - loss: 0.9333 - accuracy: 0.6634 - val_loss: 1.1476 - val_accuracy: 0.6010\n",
      "Epoch 28/50\n",
      "111/111 [==============================] - 66s 596ms/step - loss: 0.9079 - accuracy: 0.6703 - val_loss: 1.1537 - val_accuracy: 0.6027\n",
      "Epoch 29/50\n",
      "111/111 [==============================] - 66s 596ms/step - loss: 0.8884 - accuracy: 0.6764 - val_loss: 1.1502 - val_accuracy: 0.6064\n",
      "Epoch 30/50\n",
      "111/111 [==============================] - 66s 596ms/step - loss: 0.8464 - accuracy: 0.6934 - val_loss: 1.1580 - val_accuracy: 0.6052\n",
      "Epoch 31/50\n",
      "111/111 [==============================] - 66s 596ms/step - loss: 0.8293 - accuracy: 0.6993 - val_loss: 1.1776 - val_accuracy: 0.6069\n",
      "Epoch 32/50\n",
      "111/111 [==============================] - 66s 596ms/step - loss: 0.8099 - accuracy: 0.7039 - val_loss: 1.1711 - val_accuracy: 0.6041\n",
      "Epoch 33/50\n",
      "111/111 [==============================] - 66s 596ms/step - loss: 0.7870 - accuracy: 0.7129 - val_loss: 1.1885 - val_accuracy: 0.6109\n",
      "Epoch 34/50\n",
      "111/111 [==============================] - 66s 596ms/step - loss: 0.7620 - accuracy: 0.7245 - val_loss: 1.1949 - val_accuracy: 0.6100\n",
      "Epoch 35/50\n",
      "111/111 [==============================] - 66s 596ms/step - loss: 0.7466 - accuracy: 0.7309 - val_loss: 1.1923 - val_accuracy: 0.6123\n",
      "Epoch 36/50\n",
      "111/111 [==============================] - 66s 596ms/step - loss: 0.7217 - accuracy: 0.7404 - val_loss: 1.2000 - val_accuracy: 0.6095\n",
      "Epoch 37/50\n",
      "111/111 [==============================] - 66s 596ms/step - loss: 0.6952 - accuracy: 0.7512 - val_loss: 1.2011 - val_accuracy: 0.6225\n",
      "Epoch 38/50\n",
      "111/111 [==============================] - 66s 597ms/step - loss: 0.6695 - accuracy: 0.7571 - val_loss: 1.2260 - val_accuracy: 0.6134\n",
      "Epoch 39/50\n",
      "111/111 [==============================] - 66s 596ms/step - loss: 0.6546 - accuracy: 0.7669 - val_loss: 1.2177 - val_accuracy: 0.6177\n",
      "Epoch 40/50\n",
      "111/111 [==============================] - 66s 596ms/step - loss: 0.6240 - accuracy: 0.7777 - val_loss: 1.2534 - val_accuracy: 0.6140\n",
      "Epoch 41/50\n",
      "111/111 [==============================] - 66s 596ms/step - loss: 0.5996 - accuracy: 0.7847 - val_loss: 1.2786 - val_accuracy: 0.6103\n",
      "Epoch 42/50\n",
      "111/111 [==============================] - 66s 596ms/step - loss: 0.5866 - accuracy: 0.7926 - val_loss: 1.2866 - val_accuracy: 0.6117\n",
      "Epoch 43/50\n",
      "111/111 [==============================] - 66s 596ms/step - loss: 0.5610 - accuracy: 0.8008 - val_loss: 1.3231 - val_accuracy: 0.6061\n",
      "Epoch 44/50\n",
      "111/111 [==============================] - 66s 597ms/step - loss: 0.5407 - accuracy: 0.8091 - val_loss: 1.3228 - val_accuracy: 0.6081\n",
      "Epoch 45/50\n",
      "111/111 [==============================] - 66s 596ms/step - loss: 0.5200 - accuracy: 0.8192 - val_loss: 1.3480 - val_accuracy: 0.6058\n",
      "Epoch 46/50\n",
      "111/111 [==============================] - 66s 597ms/step - loss: 0.5081 - accuracy: 0.8205 - val_loss: 1.3604 - val_accuracy: 0.6131\n",
      "Epoch 47/50\n",
      "111/111 [==============================] - 66s 596ms/step - loss: 0.5017 - accuracy: 0.8233 - val_loss: 1.3635 - val_accuracy: 0.6210\n",
      "Epoch 48/50\n",
      "111/111 [==============================] - 66s 596ms/step - loss: 0.4768 - accuracy: 0.8300 - val_loss: 1.3623 - val_accuracy: 0.6188\n",
      "Epoch 49/50\n",
      "111/111 [==============================] - 66s 596ms/step - loss: 0.4574 - accuracy: 0.8417 - val_loss: 1.3812 - val_accuracy: 0.6208\n",
      "Epoch 50/50\n",
      "111/111 [==============================] - 66s 596ms/step - loss: 0.4600 - accuracy: 0.8377 - val_loss: 1.3962 - val_accuracy: 0.6179\n"
     ]
    }
   ],
   "source": [
    "history = model.fit(\n",
    "    train_generator,\n",
    "    validation_data = valid_generator,\n",
    "    epochs = 50,\n",
    "    verbose = 1\n",
    ")"
   ]
  },
  {
   "cell_type": "code",
   "execution_count": 9,
   "id": "f20d72e7",
   "metadata": {
    "id": "f20d72e7",
    "outputId": "261bcaf2-fed8-43e1-cf56-7b6d53f110de"
   },
   "outputs": [
    {
     "data": {
      "image/png": "[encoded data removed]",
      "text/plain": [
       "<Figure size 1800x720 with 2 Axes>"
      ]
     },
     "metadata": {
      "needs_background": "light"
     },
     "output_type": "display_data"
    }
   ],
   "source": [
    "history = history.history\n",
    "\n",
    "plt.figure(figsize=(25, 10))\n",
    "plt.subplot(1, 2, 1)\n",
    "plt.plot(history['loss'], label='train')\n",
    "plt.plot(history['val_loss'], label='val')\n",
    "plt.legend()\n",
    "plt.xlabel('epoch')\n",
    "plt.ylabel('loss')\n",
    "plt.title(\"Loss\")\n",
    "\n",
    "plt.subplot(1, 2, 2)\n",
    "plt.plot(history['accuracy'], label='train')\n",
    "plt.plot(history['val_accuracy'], label='val')\n",
    "plt.legend()\n",
    "plt.xlabel('epoch')\n",
    "plt.ylabel('accuracy')\n",
    "plt.title(\"Accuracy\")\n",
    "plt.show()"
   ]
  },
  {
   "cell_type": "code",
   "execution_count": 10,
   "id": "1267e015",
   "metadata": {
    "id": "1267e015"
   },
   "outputs": [],
   "source": [
    "model.save('emotion_model_imagenet.h5') # 학습 결과 저장하기"
   ]
  }
 ],
 "metadata": {
  "colab": {
   "collapsed_sections": [],
   "name": "5_Multiclass classification_ver4(0331_최종).ipynb",
   "provenance": []
  },
  "kernelspec": {
   "display_name": "Python 3 (ipykernel)",
   "language": "python",
   "name": "python3"
  },
  "language_info": {
   "codemirror_mode": {
    "name": "ipython",
    "version": 3
   },
   "file_extension": ".py",
   "mimetype": "text/x-python",
   "name": "python",
   "nbconvert_exporter": "python",
   "pygments_lexer": "ipython3",
   "version": "3.8.9"
  }
 },
 "nbformat": 4,
 "nbformat_minor": 5
}
