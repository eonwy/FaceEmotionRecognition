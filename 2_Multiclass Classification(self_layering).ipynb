{
 "cells": [
  {
   "cell_type": "code",
   "execution_count": 1,
   "id": "d88eb4b7",
   "metadata": {
    "executionInfo": {
     "elapsed": 8357,
     "status": "ok",
     "timestamp": 1649101116651,
     "user": {
      "displayName": "­차수빈(자연과학대학 통계학과)",
      "userId": "04143732765415957561"
     },
     "user_tz": -540
    },
    "id": "d88eb4b7"
   },
   "outputs": [],
   "source": [
    "# 필요한 모듈 import하기\n",
    "from glob import glob\n",
    "from pprint import pprint\n",
    "\n",
    "import os\n",
    "import math\n",
    "import cv2\n",
    "import numpy as np\n",
    "import pandas as pd\n",
    "import tensorflow as tf\n",
    "import matplotlib.pyplot as plt\n",
    "import seaborn as sns"
   ]
  },
  {
   "cell_type": "code",
   "execution_count": 2,
   "id": "b02eef8b",
   "metadata": {
    "colab": {
     "base_uri": "https://localhost:8080/",
     "height": 369
    },
    "executionInfo": {
     "elapsed": 355,
     "status": "ok",
     "timestamp": 1649101120067,
     "user": {
      "displayName": "­차수빈(자연과학대학 통계학과)",
      "userId": "04143732765415957561"
     },
     "user_tz": -540
    },
    "id": "b02eef8b",
    "outputId": "208c78c0-3dc4-44b5-b619-061ced5cace2"
   },
   "outputs": [
    {
     "data": {
      "image/png": "[encoded data removed]",
      "text/plain": [
       "<Figure size 720x360 with 1 Axes>"
      ]
     },
     "metadata": {
      "needs_background": "light"
     },
     "output_type": "display_data"
    }
   ],
   "source": [
    "csv_path = './feelings_skfold2.csv'\n",
    "df = pd.read_csv(csv_path)\n",
    "np.unique(df['emotion'])\n",
    "\n",
    "value_counts = df['emotion'].value_counts().sort_index()\n",
    "plt.figure(figsize=(10, 5))\n",
    "plt.bar(range(len(value_counts)), value_counts.values)\n",
    "plt.xticks(range(len(value_counts)), value_counts.index.values)\n",
    "plt.tight_layout()\n",
    "plt.show()"
   ]
  },
  {
   "cell_type": "markdown",
   "id": "c3c8512a",
   "metadata": {
    "id": "c3c8512a"
   },
   "source": [
    "# **1. Model 정의하기**"
   ]
  },
  {
   "cell_type": "markdown",
   "id": "40dbbd39",
   "metadata": {
    "id": "40dbbd39"
   },
   "source": [
    "* binary crossentropy : binary 다중 분류 손실 함수 -> label들이 독립적일 때 사용함\n",
    "* categorical_crossentropy : 다중 분류 손실 함수, 출력값이 one-hot encoding된 결과로 나옴\n",
    "* (정답에만 1으로 표시하고, 나머지는 0으로)\n",
    "* 각 샘플이 정확히 하나의 클래스에 속하는 경우 사용한다.\n",
    "* sparse_categorical_crossentropy : 다중 분류 손실 함수, one - hot - encoding을 하지 않고 정수 형태로 넣어줌, 한 샘플에 여러 클래스가 있거나 label이 soft 확률일 경우 사용"
   ]
  },
  {
   "cell_type": "markdown",
   "id": "b98f6d39",
   "metadata": {
    "id": "b98f6d39"
   },
   "source": [
    "* softmax\n",
    "- 출력은 0 ~ 1 사이의 실수\n",
    "- 출력을 확률로 해석할 수 있음\n",
    "- 출력의 총합은 1이다."
   ]
  },
  {
   "cell_type": "code",
   "execution_count": 3,
   "id": "doFEoaHFyxP5",
   "metadata": {
    "executionInfo": {
     "elapsed": 337,
     "status": "ok",
     "timestamp": 1649101124270,
     "user": {
      "displayName": "­차수빈(자연과학대학 통계학과)",
      "userId": "04143732765415957561"
     },
     "user_tz": -540
    },
    "id": "doFEoaHFyxP5"
   },
   "outputs": [],
   "source": [
    "import tensorflow as tf\n",
    "\n",
    "from tensorflow import keras\n",
    "from tensorflow.keras import models\n",
    "\n",
    "from tensorflow.keras.layers import Dense, Input, Flatten\n",
    "from keras.layers import Dense,Input,Dropout,GlobalAveragePooling2D,Flatten,Conv2D,BatchNormalization,Activation,MaxPooling2D\n",
    "\n",
    "from tensorflow.keras.utils import to_categorical\n",
    "from tensorflow.keras.utils import plot_model\n",
    "\n",
    "from keras.models import Model,Sequential\n",
    "from tensorflow.keras.optimizers import Adam,SGD,RMSprop\n",
    "from tensorflow.keras.callbacks import EarlyStopping"
   ]
  },
  {
   "cell_type": "code",
   "execution_count": 4,
   "id": "762e2531",
   "metadata": {
    "executionInfo": {
     "elapsed": 327,
     "status": "ok",
     "timestamp": 1649101126569,
     "user": {
      "displayName": "­차수빈(자연과학대학 통계학과)",
      "userId": "04143732765415957561"
     },
     "user_tz": -540
    },
    "id": "762e2531"
   },
   "outputs": [],
   "source": [
    "from tensorflow.keras.optimizers import Adam,SGD,RMSprop\n",
    "\n",
    "def get_model(input_shape):\n",
    "    no_of_classes = 7\n",
    "    \n",
    "    model = Sequential()\n",
    "    \n",
    "    #1st CNN layer\n",
    "    model.add(Conv2D(64,(3,3),padding = 'same',input_shape = input_shape))\n",
    "    model.add(BatchNormalization())\n",
    "    model.add(Activation('relu'))\n",
    "    model.add(MaxPooling2D(pool_size = (2,2)))\n",
    "    model.add(Dropout(0.25))\n",
    "\n",
    "    #2nd CNN layer\n",
    "    model.add(Conv2D(128,(5,5),padding = 'same'))\n",
    "    model.add(BatchNormalization())\n",
    "    model.add(Activation('relu'))\n",
    "    model.add(MaxPooling2D(pool_size = (2,2)))\n",
    "    model.add(Dropout (0.25))\n",
    "\n",
    "    #3rd CNN layer\n",
    "    model.add(Conv2D(512,(3,3),padding = 'same'))\n",
    "    model.add(BatchNormalization())\n",
    "    model.add(Activation('relu'))\n",
    "    model.add(MaxPooling2D(pool_size = (2,2)))\n",
    "    model.add(Dropout (0.25))\n",
    "\n",
    "    #4th CNN layer\n",
    "    model.add(Conv2D(512,(3,3), padding='same'))\n",
    "    model.add(BatchNormalization())\n",
    "    model.add(Activation('relu'))\n",
    "    model.add(MaxPooling2D(pool_size=(2, 2)))\n",
    "    model.add(Dropout(0.25))\n",
    "\n",
    "    model.add(Flatten())\n",
    "\n",
    "    #Fully connected 1st layer\n",
    "    model.add(Dense(256))\n",
    "    model.add(BatchNormalization())\n",
    "    model.add(Activation('relu'))\n",
    "    model.add(Dropout(0.25))\n",
    "\n",
    "\n",
    "    # Fully connected layer 2nd layer\n",
    "    model.add(Dense(512))\n",
    "    model.add(BatchNormalization())\n",
    "    model.add(Activation('relu'))\n",
    "    model.add(Dropout(0.25))\n",
    "\n",
    "    model.add(Dense(no_of_classes, activation='softmax'))\n",
    "\n",
    "    return model"
   ]
  },
  {
   "cell_type": "code",
   "execution_count": 5,
   "id": "db841467",
   "metadata": {
    "colab": {
     "base_uri": "https://localhost:8080/",
     "height": 1000
    },
    "executionInfo": {
     "elapsed": 1691,
     "status": "ok",
     "timestamp": 1649101131686,
     "user": {
      "displayName": "­차수빈(자연과학대학 통계학과)",
      "userId": "04143732765415957561"
     },
     "user_tz": -540
    },
    "id": "db841467",
    "outputId": "fe62a257-6b97-4586-a559-752f0f49e662"
   },
   "outputs": [
    {
     "name": "stdout",
     "output_type": "stream",
     "text": [
      "Model: \"sequential\"\n",
      "_________________________________________________________________\n",
      " Layer (type)                Output Shape              Param #   \n",
      "=================================================================\n",
      " conv2d (Conv2D)             (None, 48, 48, 64)        640       \n",
      "                                                                 \n",
      " batch_normalization (BatchN  (None, 48, 48, 64)       256       \n",
      " ormalization)                                                   \n",
      "                                                                 \n",
      " activation (Activation)     (None, 48, 48, 64)        0         \n",
      "                                                                 \n",
      " max_pooling2d (MaxPooling2D  (None, 24, 24, 64)       0         \n",
      " )                                                               \n",
      "                                                                 \n",
      " dropout (Dropout)           (None, 24, 24, 64)        0         \n",
      "                                                                 \n",
      " conv2d_1 (Conv2D)           (None, 24, 24, 128)       204928    \n",
      "                                                                 \n",
      " batch_normalization_1 (Batc  (None, 24, 24, 128)      512       \n",
      " hNormalization)                                                 \n",
      "                                                                 \n",
      " activation_1 (Activation)   (None, 24, 24, 128)       0         \n",
      "                                                                 \n",
      " max_pooling2d_1 (MaxPooling  (None, 12, 12, 128)      0         \n",
      " 2D)                                                             \n",
      "                                                                 \n",
      " dropout_1 (Dropout)         (None, 12, 12, 128)       0         \n",
      "                                                                 \n",
      " conv2d_2 (Conv2D)           (None, 12, 12, 512)       590336    \n",
      "                                                                 \n",
      " batch_normalization_2 (Batc  (None, 12, 12, 512)      2048      \n",
      " hNormalization)                                                 \n",
      "                                                                 \n",
      " activation_2 (Activation)   (None, 12, 12, 512)       0         \n",
      "                                                                 \n",
      " max_pooling2d_2 (MaxPooling  (None, 6, 6, 512)        0         \n",
      " 2D)                                                             \n",
      "                                                                 \n",
      " dropout_2 (Dropout)         (None, 6, 6, 512)         0         \n",
      "                                                                 \n",
      " conv2d_3 (Conv2D)           (None, 6, 6, 512)         2359808   \n",
      "                                                                 \n",
      " batch_normalization_3 (Batc  (None, 6, 6, 512)        2048      \n",
      " hNormalization)                                                 \n",
      "                                                                 \n",
      " activation_3 (Activation)   (None, 6, 6, 512)         0         \n",
      "                                                                 \n",
      " max_pooling2d_3 (MaxPooling  (None, 3, 3, 512)        0         \n",
      " 2D)                                                             \n",
      "                                                                 \n",
      " dropout_3 (Dropout)         (None, 3, 3, 512)         0         \n",
      "                                                                 \n",
      " flatten (Flatten)           (None, 4608)              0         \n",
      "                                                                 \n",
      " dense (Dense)               (None, 256)               1179904   \n",
      "                                                                 \n",
      " batch_normalization_4 (Batc  (None, 256)              1024      \n",
      " hNormalization)                                                 \n",
      "                                                                 \n",
      " activation_4 (Activation)   (None, 256)               0         \n",
      "                                                                 \n",
      " dropout_4 (Dropout)         (None, 256)               0         \n",
      "                                                                 \n",
      " dense_1 (Dense)             (None, 512)               131584    \n",
      "                                                                 \n",
      " batch_normalization_5 (Batc  (None, 512)              2048      \n",
      " hNormalization)                                                 \n",
      "                                                                 \n",
      " activation_5 (Activation)   (None, 512)               0         \n",
      "                                                                 \n",
      " dropout_5 (Dropout)         (None, 512)               0         \n",
      "                                                                 \n",
      " dense_2 (Dense)             (None, 7)                 3591      \n",
      "                                                                 \n",
      "=================================================================\n",
      "Total params: 4,478,727\n",
      "Trainable params: 4,474,759\n",
      "Non-trainable params: 3,968\n",
      "_________________________________________________________________\n",
      "You must install pydot (`pip install pydot`) and install graphviz (see instructions at https://graphviz.gitlab.io/download/) for plot_model/model_to_dot to work.\n"
     ]
    },
    {
     "name": "stderr",
     "output_type": "stream",
     "text": [
      "c:\\users\\doroc\\appdata\\local\\programs\\python\\python38\\lib\\site-packages\\keras\\optimizer_v2\\adam.py:105: UserWarning: The `lr` argument is deprecated, use `learning_rate` instead.\n",
      "  super(Adam, self).__init__(name, **kwargs)\n"
     ]
    }
   ],
   "source": [
    "input_shape = (48,48,1)    \n",
    "model = get_model(input_shape)\n",
    "\n",
    "adam = keras.optimizers.Adam(lr = 0.0001)\n",
    "\n",
    "model.compile(\n",
    "    optimizer = adam,\n",
    "    loss = 'categorical_crossentropy', # one-hot encoding 형태로 label 전달\n",
    "    metrics = ['accuracy']\n",
    ")\n",
    "\n",
    "model.summary()\n",
    "plot_model(model)"
   ]
  },
  {
   "cell_type": "code",
   "execution_count": 7,
   "id": "5794511c",
   "metadata": {
    "executionInfo": {
     "elapsed": 812,
     "status": "ok",
     "timestamp": 1649101136226,
     "user": {
      "displayName": "­차수빈(자연과학대학 통계학과)",
      "userId": "04143732765415957561"
     },
     "user_tz": -540
    },
    "id": "5794511c"
   },
   "outputs": [],
   "source": [
    "import albumentations as A\n",
    "\n",
    "# Albumentation class 생성하기\n",
    "class Augmentation:\n",
    "    def __init__(self, size, mode='train'):\n",
    "        if mode == 'train':\n",
    "            self.transform = A.Compose([\n",
    "                # 수평 전환\n",
    "                A.HorizontalFlip(p=0.5),\n",
    "                # 이동, 크기, 회전을 설정\n",
    "                A.ShiftScaleRotate(\n",
    "                    p=0.5,\n",
    "                    shift_limit=0.05,\n",
    "                    scale_limit=0.05,\n",
    "                    rotate_limit=15\n",
    "                ),\n",
    "                # 구멍을 dropout 하게됨(제대로 적용됨)\n",
    "                A.CoarseDropout(\n",
    "                    p=0.5,\n",
    "                    max_holes=8, # 최대 8개의 구멍을 dropout 시킴\n",
    "                    max_height=int(0.1 * size[0]), # size = (48,48) -> 튜플 형태\n",
    "                    max_width=int(0.1 * size[0])\n",
    "                ),\n",
    "                A.RandomBrightnessContrast(p=0.2) # 밝기 대비\n",
    "            ])\n",
    "    \n",
    "    def __call__(self, **kwargs): # callback 함수: 클래스의 객체를 생성한 이후 객체를 호출할 떄 자동으로 실행되는 함수\n",
    "        if self.transform:\n",
    "            augmented = self.transform(**kwargs) # **kwargs : 가변 인수(파라미터의 개수에 제한을 두지 않겠다.)\n",
    "            img = augmented['image'] # 증폭된 이미지\n",
    "            return img "
   ]
  },
  {
   "cell_type": "code",
   "execution_count": 8,
   "id": "1aec5e3a",
   "metadata": {
    "colab": {
     "base_uri": "https://localhost:8080/"
    },
    "executionInfo": {
     "elapsed": 319,
     "status": "ok",
     "timestamp": 1649101139229,
     "user": {
      "displayName": "­차수빈(자연과학대학 통계학과)",
      "userId": "04143732765415957561"
     },
     "user_tz": -540
    },
    "id": "1aec5e3a",
    "outputId": "4f64e6cf-98a0-4d4b-bc72-be047b3dd8f1"
   },
   "outputs": [
    {
     "name": "stdout",
     "output_type": "stream",
     "text": [
      "array(['angry', 'disgust', 'fear', 'happy', 'neutral', 'sad', 'surprise'],\n",
      "      dtype=object)\n",
      "===================================\n",
      "{'angry': 0,\n",
      " 'disgust': 1,\n",
      " 'fear': 2,\n",
      " 'happy': 3,\n",
      " 'neutral': 4,\n",
      " 'sad': 5,\n",
      " 'surprise': 6}\n",
      "===================================\n",
      "{'angry': [1, 0, 0, 0, 0, 0, 0],\n",
      " 'disgust': [0, 1, 0, 0, 0, 0, 0],\n",
      " 'fear': [0, 0, 1, 0, 0, 0, 0],\n",
      " 'happy': [0, 0, 0, 1, 0, 0, 0],\n",
      " 'neutral': [0, 0, 0, 0, 1, 0, 0],\n",
      " 'sad': [0, 0, 0, 0, 0, 1, 0],\n",
      " 'surprise': [0, 0, 0, 0, 0, 0, 1]}\n"
     ]
    }
   ],
   "source": [
    "csv_path = './feelings_skfold2.csv'\n",
    "\n",
    "LABEL_INT_DICT = np.unique(pd.read_csv(csv_path)['emotion'])\n",
    "pprint(LABEL_INT_DICT) # 데이터의 타입과 형태 등도 같이 보여준다.(조금 더 예쁘게 출력해준다?)\n",
    "print(\"===================================\")\n",
    "\n",
    "LABEL_STR_DICT = {k:v for v,k in enumerate(LABEL_INT_DICT)}\n",
    "pprint(LABEL_STR_DICT)\n",
    "\n",
    "# 원-핫 인코딩의 형태로 emotion(label)의 형태 변경(딕셔너리의 key 변경)\n",
    "# 원-핫 인토딩 어케 쓰는지 까먹어서...형태 걍 만들었습니다....^-^;\n",
    "print(\"===================================\")\n",
    "LABEL_STR_DICT['angry'] = [1,0,0,0,0,0,0]\n",
    "LABEL_STR_DICT['disgust'] = [0,1,0,0,0,0,0]\n",
    "LABEL_STR_DICT['fear'] = [0,0,1,0,0,0,0]\n",
    "LABEL_STR_DICT['happy'] = [0,0,0,1,0,0,0]\n",
    "LABEL_STR_DICT['neutral'] = [0,0,0,0,1,0,0]\n",
    "LABEL_STR_DICT['sad'] = [0,0,0,0,0,1,0]\n",
    "LABEL_STR_DICT['surprise'] = [0,0,0,0,0,0,1]\n",
    "pprint(LABEL_STR_DICT)"
   ]
  },
  {
   "cell_type": "code",
   "execution_count": 9,
   "id": "f189b98d",
   "metadata": {
    "executionInfo": {
     "elapsed": 341,
     "status": "ok",
     "timestamp": 1649101144117,
     "user": {
      "displayName": "­차수빈(자연과학대학 통계학과)",
      "userId": "04143732765415957561"
     },
     "user_tz": -540
    },
    "id": "f189b98d"
   },
   "outputs": [],
   "source": [
    "class DataGenerator(keras.utils.Sequence):\n",
    "    def __init__(self, batch_size, csv_path, fold, image_size, mode='train', shuffle=True):\n",
    "        self.batch_size = batch_size\n",
    "        self.fold = fold\n",
    "        self.image_size = image_size\n",
    "        self.mode = mode\n",
    "        self.shuffle = shuffle\n",
    "        \n",
    "        self.df = pd.read_csv(csv_path)\n",
    "        \n",
    "        if self.mode == 'train':\n",
    "            self.df = self.df[self.df['fold'] != self.fold]\n",
    "        elif self.mode == 'val':\n",
    "            self.df = self.df[self.df['fold'] == self.fold]\n",
    "            \n",
    "        self.transform = Augmentation(image_size, mode)\n",
    "        \n",
    "        self.on_epoch_end()\n",
    "\n",
    "    def on_epoch_end(self):\n",
    "        if self.shuffle: # shuffle = True라면(df 앞의 인덱스를 지워주는 기능\n",
    "            self.df = self.df.sample(frac=1).reset_index(drop=True)\n",
    "    # len()\n",
    "    def __len__(self):\n",
    "            return math.ceil(len(self.df) / self.batch_size)\n",
    "\n",
    "    def __getitem__(self, idx):\n",
    "        strt = idx * self.batch_size\n",
    "        fin = (idx + 1) * self.batch_size\n",
    "        data = self.df.iloc[strt:fin]\n",
    "        batch_x, batch_y = self.get_data(data)\n",
    "\n",
    "        return np.array(batch_x), np.array(batch_y)\n",
    "        \n",
    "    def get_data(self, data):\n",
    "        batch_x = []\n",
    "        batch_y = []\n",
    "        \n",
    "        for _, r in data.iterrows():\n",
    "            file_name = r['file_name']\n",
    "            img_folder = r['emotion'] # type = np.str_\n",
    "\n",
    "            image = cv2.imread(f'./datasets2\\\\{img_folder}\\\\{file_name}.jpg')\n",
    "            image = cv2.cvtColor(image, cv2.COLOR_BGR2GRAY)\n",
    "            image = cv2.resize(image, self.image_size)\n",
    "            \n",
    "            if self.mode == 'train':\n",
    "                image = image.astype('uint8') # 정수로 형변환\n",
    "                image = self.transform(image=image)\n",
    "\n",
    "            image = image.astype('float32') # 실수로 다시 형변환         \n",
    "            image = image / 255.\n",
    "\n",
    "            \n",
    "            emotion = str(img_folder)\n",
    "            emotion = LABEL_STR_DICT[emotion]\n",
    "            emotion = np.array(emotion,dtype = float)  # 원-핫 인코딩 적용 -> ndarray 형태로\n",
    "            \n",
    "            batch_x.append(image)\n",
    "            batch_y.append(emotion)\n",
    "        \n",
    "        return batch_x, batch_y"
   ]
  },
  {
   "cell_type": "code",
   "execution_count": 10,
   "id": "70752f06",
   "metadata": {
    "executionInfo": {
     "elapsed": 314,
     "status": "ok",
     "timestamp": 1649101154028,
     "user": {
      "displayName": "­차수빈(자연과학대학 통계학과)",
      "userId": "04143732765415957561"
     },
     "user_tz": -540
    },
    "id": "70752f06"
   },
   "outputs": [],
   "source": [
    "csv_path = './feelings_skfold2.csv'\n",
    "\n",
    "# batch_size, csv_path, fold, image_size, mode='train', shuffle=True\n",
    "\n",
    "train_generator = DataGenerator(\n",
    "    batch_size = 128,\n",
    "    csv_path = csv_path,\n",
    "    fold = 1,\n",
    "    image_size = (48,48),\n",
    "    mode = 'train',\n",
    "    shuffle = True\n",
    ")\n",
    "\n",
    "valid_generator = DataGenerator(\n",
    "    batch_size = 128,\n",
    "    csv_path = csv_path,\n",
    "    fold = 1, \n",
    "    image_size = (48,48),\n",
    "    mode = 'val',\n",
    "    shuffle = True\n",
    ")"
   ]
  },
  {
   "cell_type": "code",
   "execution_count": 11,
   "id": "51NABwWi1Esp",
   "metadata": {
    "executionInfo": {
     "elapsed": 356,
     "status": "ok",
     "timestamp": 1649118907906,
     "user": {
      "displayName": "­차수빈(자연과학대학 통계학과)",
      "userId": "04143732765415957561"
     },
     "user_tz": -540
    },
    "id": "51NABwWi1Esp"
   },
   "outputs": [],
   "source": [
    "# library import\n",
    "from tensorflow.keras.optimizers import RMSprop,SGD,Adam # optimizer\n",
    "from tensorflow.keras.callbacks import ModelCheckpoint, EarlyStopping, ReduceLROnPlateau # 콜백함수\n",
    "\n",
    "# Early-stopping 적용\n",
    "early_stopping = EarlyStopping(monitor='val_loss',\n",
    "                          min_delta=0,\n",
    "                          patience=5,\n",
    "                          verbose=1,\n",
    "                          restore_best_weights=True\n",
    "                          )\n",
    "\n",
    "# reduce_on_plateau\n",
    "reduce_on_plateau = ReduceLROnPlateau(monitor='val_loss',\n",
    "                              factor=0.2,\n",
    "                              patience=5,\n",
    "                              verbose=1,\n",
    "                              min_delta=0.0001)\n",
    "\n",
    "callbacks_list = [early_stopping,reduce_on_plateau]"
   ]
  },
  {
   "cell_type": "code",
   "execution_count": 12,
   "id": "b3c5201d",
   "metadata": {
    "colab": {
     "base_uri": "https://localhost:8080/",
     "height": 492
    },
    "executionInfo": {
     "elapsed": 1552964,
     "status": "error",
     "timestamp": 1649120464966,
     "user": {
      "displayName": "­차수빈(자연과학대학 통계학과)",
      "userId": "04143732765415957561"
     },
     "user_tz": -540
    },
    "id": "b3c5201d",
    "outputId": "76369308-01d4-42cb-9cb2-7411b147e7fb"
   },
   "outputs": [
    {
     "name": "stdout",
     "output_type": "stream",
     "text": [
      "Epoch 1/50\n",
      "111/111 [==============================] - 228s 2s/step - loss: 2.2202 - accuracy: 0.1670 - val_loss: 1.9763 - val_accuracy: 0.1428 - lr: 1.0000e-04\n",
      "Epoch 2/50\n",
      "111/111 [==============================] - 265s 2s/step - loss: 2.0979 - accuracy: 0.1885 - val_loss: 1.9713 - val_accuracy: 0.1761 - lr: 1.0000e-04\n",
      "Epoch 3/50\n",
      "111/111 [==============================] - 237s 2s/step - loss: 2.0526 - accuracy: 0.2093 - val_loss: 1.9636 - val_accuracy: 0.1693 - lr: 1.0000e-04\n",
      "Epoch 4/50\n",
      "111/111 [==============================] - 244s 2s/step - loss: 2.0188 - accuracy: 0.2135 - val_loss: 1.9667 - val_accuracy: 0.1834 - lr: 1.0000e-04\n",
      "Epoch 5/50\n",
      "111/111 [==============================] - 230s 2s/step - loss: 1.9784 - accuracy: 0.2311 - val_loss: 1.8927 - val_accuracy: 0.2001 - lr: 1.0000e-04\n",
      "Epoch 6/50\n",
      "111/111 [==============================] - 239s 2s/step - loss: 1.9414 - accuracy: 0.2453 - val_loss: 1.8029 - val_accuracy: 0.2683 - lr: 1.0000e-04\n",
      "Epoch 7/50\n",
      "111/111 [==============================] - 236s 2s/step - loss: 1.9038 - accuracy: 0.2641 - val_loss: 1.7727 - val_accuracy: 0.3059 - lr: 1.0000e-04\n",
      "Epoch 8/50\n",
      "111/111 [==============================] - 237s 2s/step - loss: 1.8774 - accuracy: 0.2744 - val_loss: 1.7141 - val_accuracy: 0.3369 - lr: 1.0000e-04\n",
      "Epoch 9/50\n",
      "111/111 [==============================] - 238s 2s/step - loss: 1.8562 - accuracy: 0.2791 - val_loss: 1.6932 - val_accuracy: 0.3482 - lr: 1.0000e-04\n",
      "Epoch 10/50\n",
      "111/111 [==============================] - 236s 2s/step - loss: 1.8302 - accuracy: 0.2966 - val_loss: 1.6847 - val_accuracy: 0.3378 - lr: 1.0000e-04\n",
      "Epoch 11/50\n",
      "111/111 [==============================] - 237s 2s/step - loss: 1.8040 - accuracy: 0.3025 - val_loss: 1.6569 - val_accuracy: 0.3657 - lr: 1.0000e-04\n",
      "Epoch 12/50\n",
      "111/111 [==============================] - 238s 2s/step - loss: 1.7955 - accuracy: 0.3123 - val_loss: 1.6572 - val_accuracy: 0.3665 - lr: 1.0000e-04\n",
      "Epoch 13/50\n",
      "111/111 [==============================] - 263s 2s/step - loss: 1.7594 - accuracy: 0.3208 - val_loss: 1.6217 - val_accuracy: 0.3804 - lr: 1.0000e-04\n",
      "Epoch 14/50\n",
      "111/111 [==============================] - 341s 3s/step - loss: 1.7443 - accuracy: 0.3255 - val_loss: 1.6577 - val_accuracy: 0.3758 - lr: 1.0000e-04\n",
      "Epoch 15/50\n",
      "111/111 [==============================] - 324s 3s/step - loss: 1.7276 - accuracy: 0.3368 - val_loss: 1.6223 - val_accuracy: 0.3866 - lr: 1.0000e-04\n",
      "Epoch 16/50\n",
      "111/111 [==============================] - 322s 3s/step - loss: 1.7030 - accuracy: 0.3487 - val_loss: 1.6219 - val_accuracy: 0.3897 - lr: 1.0000e-04\n",
      "Epoch 17/50\n",
      "111/111 [==============================] - 321s 3s/step - loss: 1.6910 - accuracy: 0.3502 - val_loss: 1.5453 - val_accuracy: 0.4038 - lr: 1.0000e-04\n",
      "Epoch 18/50\n",
      "111/111 [==============================] - 325s 3s/step - loss: 1.6618 - accuracy: 0.3658 - val_loss: 1.5134 - val_accuracy: 0.4283 - lr: 1.0000e-04\n",
      "Epoch 19/50\n",
      "111/111 [==============================] - 326s 3s/step - loss: 1.6333 - accuracy: 0.3735 - val_loss: 1.5377 - val_accuracy: 0.4153 - lr: 1.0000e-04\n",
      "Epoch 20/50\n",
      "111/111 [==============================] - 318s 3s/step - loss: 1.6331 - accuracy: 0.3732 - val_loss: 1.5002 - val_accuracy: 0.4309 - lr: 1.0000e-04\n",
      "Epoch 21/50\n",
      "111/111 [==============================] - 267s 2s/step - loss: 1.6144 - accuracy: 0.3798 - val_loss: 1.4818 - val_accuracy: 0.4379 - lr: 1.0000e-04\n",
      "Epoch 22/50\n",
      "111/111 [==============================] - 236s 2s/step - loss: 1.5872 - accuracy: 0.3941 - val_loss: 1.4560 - val_accuracy: 0.4486 - lr: 1.0000e-04\n",
      "Epoch 23/50\n",
      "111/111 [==============================] - 230s 2s/step - loss: 1.5746 - accuracy: 0.4004 - val_loss: 1.4638 - val_accuracy: 0.4453 - lr: 1.0000e-04\n",
      "Epoch 24/50\n",
      "111/111 [==============================] - 232s 2s/step - loss: 1.5605 - accuracy: 0.4049 - val_loss: 1.4577 - val_accuracy: 0.4478 - lr: 1.0000e-04\n",
      "Epoch 25/50\n",
      "111/111 [==============================] - 229s 2s/step - loss: 1.5512 - accuracy: 0.4104 - val_loss: 1.4852 - val_accuracy: 0.4461 - lr: 1.0000e-04\n",
      "Epoch 26/50\n",
      "111/111 [==============================] - 228s 2s/step - loss: 1.5240 - accuracy: 0.4224 - val_loss: 1.4114 - val_accuracy: 0.4681 - lr: 1.0000e-04\n",
      "Epoch 27/50\n",
      "111/111 [==============================] - 230s 2s/step - loss: 1.5100 - accuracy: 0.4304 - val_loss: 1.4239 - val_accuracy: 0.4667 - lr: 1.0000e-04\n",
      "Epoch 28/50\n",
      "111/111 [==============================] - 232s 2s/step - loss: 1.5034 - accuracy: 0.4326 - val_loss: 1.4118 - val_accuracy: 0.4678 - lr: 1.0000e-04\n",
      "Epoch 29/50\n",
      "111/111 [==============================] - 230s 2s/step - loss: 1.4819 - accuracy: 0.4431 - val_loss: 1.4519 - val_accuracy: 0.4597 - lr: 1.0000e-04\n",
      "Epoch 30/50\n",
      "111/111 [==============================] - 229s 2s/step - loss: 1.4725 - accuracy: 0.4447 - val_loss: 1.3729 - val_accuracy: 0.4865 - lr: 1.0000e-04\n",
      "Epoch 31/50\n",
      "111/111 [==============================] - 228s 2s/step - loss: 1.4567 - accuracy: 0.4517 - val_loss: 1.4251 - val_accuracy: 0.4670 - lr: 1.0000e-04\n",
      "Epoch 32/50\n",
      "111/111 [==============================] - 228s 2s/step - loss: 1.4458 - accuracy: 0.4564 - val_loss: 1.3440 - val_accuracy: 0.4969 - lr: 1.0000e-04\n",
      "Epoch 33/50\n",
      "111/111 [==============================] - 229s 2s/step - loss: 1.4418 - accuracy: 0.4549 - val_loss: 1.3812 - val_accuracy: 0.4814 - lr: 1.0000e-04\n",
      "Epoch 34/50\n",
      "111/111 [==============================] - 229s 2s/step - loss: 1.4209 - accuracy: 0.4667 - val_loss: 1.3631 - val_accuracy: 0.4873 - lr: 1.0000e-04\n",
      "Epoch 35/50\n",
      "111/111 [==============================] - 229s 2s/step - loss: 1.4203 - accuracy: 0.4688 - val_loss: 1.3285 - val_accuracy: 0.4989 - lr: 1.0000e-04\n",
      "Epoch 36/50\n",
      "111/111 [==============================] - 229s 2s/step - loss: 1.4016 - accuracy: 0.4785 - val_loss: 1.3603 - val_accuracy: 0.4893 - lr: 1.0000e-04\n",
      "Epoch 37/50\n",
      "111/111 [==============================] - 229s 2s/step - loss: 1.3769 - accuracy: 0.4826 - val_loss: 1.3023 - val_accuracy: 0.5130 - lr: 1.0000e-04\n",
      "Epoch 38/50\n",
      "111/111 [==============================] - 230s 2s/step - loss: 1.3792 - accuracy: 0.4801 - val_loss: 1.2801 - val_accuracy: 0.5172 - lr: 1.0000e-04\n",
      "Epoch 39/50\n",
      "111/111 [==============================] - 230s 2s/step - loss: 1.3683 - accuracy: 0.4904 - val_loss: 1.3017 - val_accuracy: 0.5172 - lr: 1.0000e-04\n",
      "Epoch 40/50\n",
      "111/111 [==============================] - 230s 2s/step - loss: 1.3622 - accuracy: 0.4919 - val_loss: 1.3085 - val_accuracy: 0.5161 - lr: 1.0000e-04\n",
      "Epoch 41/50\n",
      "111/111 [==============================] - 230s 2s/step - loss: 1.3457 - accuracy: 0.4952 - val_loss: 1.2773 - val_accuracy: 0.5260 - lr: 1.0000e-04\n",
      "Epoch 42/50\n",
      "111/111 [==============================] - 230s 2s/step - loss: 1.3423 - accuracy: 0.4993 - val_loss: 1.3186 - val_accuracy: 0.5116 - lr: 1.0000e-04\n",
      "Epoch 43/50\n",
      "111/111 [==============================] - 230s 2s/step - loss: 1.3334 - accuracy: 0.5067 - val_loss: 1.3105 - val_accuracy: 0.5158 - lr: 1.0000e-04\n",
      "Epoch 44/50\n",
      "111/111 [==============================] - 229s 2s/step - loss: 1.3263 - accuracy: 0.5014 - val_loss: 1.3155 - val_accuracy: 0.5214 - lr: 1.0000e-04\n",
      "Epoch 45/50\n",
      "111/111 [==============================] - 229s 2s/step - loss: 1.3108 - accuracy: 0.5146 - val_loss: 1.2799 - val_accuracy: 0.5274 - lr: 1.0000e-04\n",
      "Epoch 46/50\n",
      "111/111 [==============================] - 245s 2s/step - loss: 1.3107 - accuracy: 0.5088 - val_loss: 1.2605 - val_accuracy: 0.5271 - lr: 1.0000e-04\n",
      "Epoch 47/50\n",
      "111/111 [==============================] - 238s 2s/step - loss: 1.3062 - accuracy: 0.5129 - val_loss: 1.2726 - val_accuracy: 0.5277 - lr: 1.0000e-04\n",
      "Epoch 48/50\n",
      "111/111 [==============================] - 231s 2s/step - loss: 1.3009 - accuracy: 0.5192 - val_loss: 1.2768 - val_accuracy: 0.5243 - lr: 1.0000e-04\n",
      "Epoch 49/50\n",
      "111/111 [==============================] - 230s 2s/step - loss: 1.2820 - accuracy: 0.5218 - val_loss: 1.2275 - val_accuracy: 0.5437 - lr: 1.0000e-04\n",
      "Epoch 50/50\n",
      "111/111 [==============================] - 230s 2s/step - loss: 1.2785 - accuracy: 0.5264 - val_loss: 1.3791 - val_accuracy: 0.5042 - lr: 1.0000e-04\n"
     ]
    }
   ],
   "source": [
    "history = model.fit(\n",
    "    train_generator,\n",
    "    validation_data = valid_generator,\n",
    "    epochs = 50,\n",
    "    verbose = 1,\n",
    "    callbacks = callbacks_list\n",
    ")"
   ]
  },
  {
   "cell_type": "code",
   "execution_count": 13,
   "id": "f20d72e7",
   "metadata": {
    "id": "f20d72e7"
   },
   "outputs": [
    {
     "data": {
      "image/png": "[encoded data removed]",
      "text/plain": [
       "<Figure size 1800x720 with 2 Axes>"
      ]
     },
     "metadata": {
      "needs_background": "light"
     },
     "output_type": "display_data"
    }
   ],
   "source": [
    "history = history.history\n",
    "\n",
    "plt.figure(figsize=(25, 10))\n",
    "plt.subplot(1, 2, 1)\n",
    "plt.plot(history['loss'], label='train')\n",
    "plt.plot(history['val_loss'], label='val')\n",
    "plt.legend()\n",
    "plt.xlabel('epoch')\n",
    "plt.ylabel('loss')\n",
    "plt.title(\"Loss\")\n",
    "\n",
    "plt.subplot(1, 2, 2)\n",
    "plt.plot(history['accuracy'], label='train')\n",
    "plt.plot(history['val_accuracy'], label='val')\n",
    "plt.legend()\n",
    "plt.xlabel('epoch')\n",
    "plt.ylabel('accuracy')\n",
    "plt.title(\"Accuracy\")\n",
    "plt.show()"
   ]
  },
  {
   "cell_type": "code",
   "execution_count": 14,
   "id": "4d28f9dc",
   "metadata": {},
   "outputs": [],
   "source": [
    "model.save('emotion_model.h5') # 모델 저장하기"
   ]
  }
 ],
 "metadata": {
  "colab": {
   "collapsed_sections": [],
   "name": "5_Multiclass Classification_ver3(0330).ipynb",
   "provenance": []
  },
  "kernelspec": {
   "display_name": "Python 3 (ipykernel)",
   "language": "python",
   "name": "python3"
  },
  "language_info": {
   "codemirror_mode": {
    "name": "ipython",
    "version": 3
   },
   "file_extension": ".py",
   "mimetype": "text/x-python",
   "name": "python",
   "nbconvert_exporter": "python",
   "pygments_lexer": "ipython3",
   "version": "3.8.9"
  }
 },
 "nbformat": 4,
 "nbformat_minor": 5
}
