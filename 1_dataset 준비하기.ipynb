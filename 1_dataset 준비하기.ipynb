{
 "cells": [
  {
   "cell_type": "code",
   "execution_count": 1,
   "metadata": {
    "executionInfo": {
     "elapsed": 3845,
     "status": "ok",
     "timestamp": 1649031483887,
     "user": {
      "displayName": "­차수빈(자연과학대학 통계학과)",
      "userId": "04143732765415957561"
     },
     "user_tz": -540
    },
    "id": "qNnaK6C07xl3"
   },
   "outputs": [],
   "source": [
    "# 모듈 import\n",
    "import pandas as pd\n",
    "import numpy as np\n",
    "import matplotlib.pyplot as plt\n",
    "import cv2\n",
    "\n",
    "from tensorflow import keras"
   ]
  },
  {
   "cell_type": "markdown",
   "metadata": {
    "id": "C1HuyxT7VDnt"
   },
   "source": [
    "# **1. 이미지 file 가져오기**"
   ]
  },
  {
   "cell_type": "code",
   "execution_count": 2,
   "metadata": {
    "executionInfo": {
     "elapsed": 454,
     "status": "ok",
     "timestamp": 1649031489325,
     "user": {
      "displayName": "­차수빈(자연과학대학 통계학과)",
      "userId": "04143732765415957561"
     },
     "user_tz": -540
    },
    "id": "2g3DwNUf8vXp"
   },
   "outputs": [],
   "source": [
    "# 이미지 처리에 필요한 모듈 준비하기\n",
    "import os\n",
    "import glob"
   ]
  },
  {
   "cell_type": "code",
   "execution_count": 3,
   "metadata": {
    "colab": {
     "base_uri": "https://localhost:8080/"
    },
    "executionInfo": {
     "elapsed": 94641,
     "status": "ok",
     "timestamp": 1649031705281,
     "user": {
      "displayName": "­차수빈(자연과학대학 통계학과)",
      "userId": "04143732765415957561"
     },
     "user_tz": -540
    },
    "id": "FKNzWdE28c1j",
    "outputId": "5accebe6-99ff-4f67-8f71-118c9fc57063"
   },
   "outputs": [
    {
     "name": "stdout",
     "output_type": "stream",
     "text": [
      "datasets2\\angry\\angry_000.jpg\n"
     ]
    }
   ],
   "source": [
    "path = 'datasets2' # 상위 폴더 경로(datasets)\n",
    "                   # 상대 경로로 잡아준 경로\n",
    "                                                              \n",
    "# 각 잠정에 해당하는 path 잡아주기\n",
    "path_angry = path+ '\\\\angry'\n",
    "path_disgust = path + '\\\\disgust'\n",
    "path_fear = path+ '\\\\fear'\n",
    "path_happy = path+ '\\\\happy'\n",
    "path_neutral = path+ '\\\\neutral'\n",
    "path_sad = path+ '\\\\sad'\n",
    "path_surprise = path+ '\\\\surprise'\n",
    "\n",
    "# 각각의 감정별로 폴더에 접근하여 모든 파일 가져오기 -> 각각의 사진들의 경로들이 저장된다.\n",
    "angry = glob.glob(path_angry+ '\\\\*')\n",
    "disgust = glob.glob(path_disgust+ '\\\\*')\n",
    "fear = glob.glob(path_fear+ '\\\\*')\n",
    "happy = glob.glob(path_happy+ '\\\\*')\n",
    "neutral = glob.glob(path_neutral+ '\\\\*')\n",
    "sad = glob.glob(path_sad+ '\\\\*')\n",
    "surprise = glob.glob(path_surprise+ '\\\\*')\n",
    "\n",
    "print(angry[0])"
   ]
  },
  {
   "cell_type": "markdown",
   "metadata": {
    "id": "_KoijoCeYJLR"
   },
   "source": [
    "# **2. 이미지 renaming**\n",
    "* 어지간하면 안하고 버텨볼라 했는데, 다른 거 만들 때 헷갈려서 그냥 바꿀랍니다..ㅎㅅㅎ"
   ]
  },
  {
   "cell_type": "code",
   "execution_count": 4,
   "metadata": {
    "executionInfo": {
     "elapsed": 519,
     "status": "ok",
     "timestamp": 1649031903117,
     "user": {
      "displayName": "­차수빈(자연과학대학 통계학과)",
      "userId": "04143732765415957561"
     },
     "user_tz": -540
    },
    "id": "tiDj5GJZYE11"
   },
   "outputs": [],
   "source": [
    "# 파일의 이름을 재정의 해주는 함수 정의\n",
    "def rename(files):\n",
    "    if 'angry' in files[0]: # 파일 경로에 angry라는 단어가 포함되어 있으면\n",
    "        for i,f in enumerate(files): # i: 순번, f: 파일\n",
    "            os.rename(f, os.path.join(path+\"\\\\angry\", 'angry_' + '{0:03d}.jpg'.format(i)))\n",
    "        angry = glob.glob(path+\"\\\\angry\" + '\\\\*')    \n",
    "        print(\"angry {}번째 이미지까지 성공\".format(i+1))\n",
    "    \n",
    "    elif 'disgust' in files[0]:\n",
    "        for i,f in enumerate(files):\n",
    "            os.rename(f, os.path.join(path+\"\\\\disgust\", 'disgust_' + '{0:03d}.jpg'.format(i)))\n",
    "        disgust = glob.glob(path+\"\\\\disgust\"+'\\\\*')\n",
    "        print(\"disgust {}번째 이미지까지 성공\".format(i+1))\n",
    "    \n",
    "    elif 'fear' in files[0]:\n",
    "        for i,f in enumerate(files):\n",
    "            os.rename(f, os.path.join(path+\"\\\\fear\", 'fear_' + '{0:03d}.jpg'.format(i)))\n",
    "        fear = glob.glob(path+\"\\\\fear\"+'\\\\*')\n",
    "        print(\"fear {}번째 이미지까지 성공\".format(i+1))\n",
    "    \n",
    "    elif 'happy' in files[0]:\n",
    "        for i,f in enumerate(files):\n",
    "            os.rename(f, os.path.join(path+\"\\\\happy\", 'happy_' + '{0:03d}.jpg'.format(i)))\n",
    "        happy = glob.glob(path+\"\\\\happy\"+'\\\\*')\n",
    "        print(\"happy {}번째 이미지까지 성공\".format(i+1))\n",
    "    \n",
    "    elif 'neutral' in files[0]:\n",
    "        for i,f in enumerate(files):\n",
    "            os.rename(f, os.path.join(path+\"\\\\neutral\", 'neutral_' + '{0:03d}.jpg'.format(i)))\n",
    "        neutral = glob.glob(path+\"\\\\neutral\"+'\\\\*')\n",
    "        print(\"neutral {}번째 이미지까지 성공\".format(i+1))\n",
    "    \n",
    "    elif 'sad' in files[0]:\n",
    "        for i,f in enumerate(files):\n",
    "            os.rename(f, os.path.join(path+\"\\\\sad\", 'sad_' + '{0:03d}.jpg'.format(i)))\n",
    "        sad = glob.glob(path+\"\\\\sad\"+'\\\\*')\n",
    "        print(\"sad {}번째 이미지까지 성공\".format(i+1))\n",
    "    \n",
    "    elif 'surprise' in files[0]:\n",
    "        for i,f in enumerate(files):\n",
    "            os.rename(f, os.path.join(path+\"\\\\surprise\", 'surprise_' + '{0:03d}.jpg'.format(i)))\n",
    "        surprise = glob.glob(path+\"\\\\surprise\"+'\\\\*')\n",
    "        print(\"surprise {}번째 이미지까지 성공\".format(i+1))"
   ]
  },
  {
   "cell_type": "markdown",
   "metadata": {
    "id": "OBcaAved7Gmf"
   },
   "source": [
    "* 아래의 셀은 초기에(이름 재정의 전) '한번만' 실행해야 함\n",
    "> 이미 파일 이름이 재정의되어 있으므로 실행시키면 에러나거나 데이터 바뀌니 주의하세요!"
   ]
  },
  {
   "cell_type": "code",
   "execution_count": null,
   "metadata": {
    "id": "uK15WU7GbU7r"
   },
   "outputs": [],
   "source": [
    "rename(angry)\n",
    "rename(disgust)\n",
    "rename(fear)\n",
    "rename(happy)\n",
    "rename(neutral)\n",
    "rename(sad)\n",
    "rename(surprise)"
   ]
  },
  {
   "cell_type": "code",
   "execution_count": 5,
   "metadata": {
    "colab": {
     "base_uri": "https://localhost:8080/",
     "height": 35
    },
    "executionInfo": {
     "elapsed": 1158,
     "status": "ok",
     "timestamp": 1649031970215,
     "user": {
      "displayName": "­차수빈(자연과학대학 통계학과)",
      "userId": "04143732765415957561"
     },
     "user_tz": -540
    },
    "id": "fYT90AUzbnpi",
    "outputId": "5cb7b4e8-93ab-40d4-e2a5-4c67403ace15"
   },
   "outputs": [],
   "source": [
    "# 이미지 리스트 정렬\n",
    "angry = sorted(glob.glob(path+\"\\\\angry\" + '\\\\*'))\n",
    "disgust = sorted(glob.glob(path+\"\\\\disgust\"+'\\\\*'))\n",
    "fear = sorted(glob.glob(path+\"\\\\fear\"+'\\\\*'))\n",
    "happy = sorted(glob.glob(path+\"\\\\happy\"+'\\\\*'))\n",
    "neutral = sorted(glob.glob(path+\"\\\\neutral\"+'\\\\*'))\n",
    "sad = sorted(glob.glob(path+\"\\\\sad\"+'\\\\*'))\n",
    "surprise = sorted(glob.glob(path+\"\\\\surprise\"+'\\\\*'))"
   ]
  },
  {
   "cell_type": "code",
   "execution_count": 6,
   "metadata": {
    "colab": {
     "base_uri": "https://localhost:8080/"
    },
    "executionInfo": {
     "elapsed": 409,
     "status": "ok",
     "timestamp": 1649031978686,
     "user": {
      "displayName": "­차수빈(자연과학대학 통계학과)",
      "userId": "04143732765415957561"
     },
     "user_tz": -540
    },
    "id": "bg-hoCekZKEx",
    "outputId": "cb43611c-7731-45e0-b923-5c42da30c2c1"
   },
   "outputs": [
    {
     "name": "stdout",
     "output_type": "stream",
     "text": [
      "angry 이미지 개수: 2531\n",
      "disgust 이미지 개수: 2531\n",
      "fear 이미지 개수: 2531\n",
      "happy 이미지 개수: 2531\n",
      "neutral 이미지 개수: 2531\n",
      "sad 이미지 개수: 2531\n",
      "surprise 이미지 개수: 2531\n"
     ]
    }
   ],
   "source": [
    "# 각 감정에 해당하는 이미지의 개수 확인하기\n",
    "# 데이터가 편향되지 않도록 그냥 angry 개수 정도로 맞춰서 0번 ~ 2530까지 살림\n",
    "\n",
    "print('angry 이미지 개수: {}'.format(len(angry)))\n",
    "print('disgust 이미지 개수: {}'.format(len(disgust)))\n",
    "print('fear 이미지 개수: {}'.format(len(fear)))\n",
    "print('happy 이미지 개수: {}'.format(len(happy)))\n",
    "print('neutral 이미지 개수: {}'.format(len(neutral)))\n",
    "print('sad 이미지 개수: {}'.format(len(sad)))\n",
    "print('surprise 이미지 개수: {}'.format(len(surprise)))"
   ]
  },
  {
   "cell_type": "markdown",
   "metadata": {
    "id": "rondsXnqfv2b"
   },
   "source": [
    "# **3. 감정 labeling**\n",
    "- 각각의 감정에 대해 알려줄 수 있는 방법이 요구된다."
   ]
  },
  {
   "cell_type": "code",
   "execution_count": 7,
   "metadata": {
    "executionInfo": {
     "elapsed": 428,
     "status": "ok",
     "timestamp": 1649032015651,
     "user": {
      "displayName": "­차수빈(자연과학대학 통계학과)",
      "userId": "04143732765415957561"
     },
     "user_tz": -540
    },
    "id": "h-XtSrnsrLpZ"
   },
   "outputs": [],
   "source": [
    "feeling_images = [] #감정이 labeling 된 data 전체가 담길 빈 리스트\n",
    "\n",
    "def put_label(feeling,emotion):\n",
    "  \n",
    "  for i in range(len(feeling)):\n",
    "    filename = str(feeling[i]).split('\\\\')[-1]\n",
    "    filename = filename.replace('.jpg','') # filename에서 '.jpg' 날려주기\n",
    "\n",
    "    feeling_images.append([filename,str(emotion)])  # 매개변수로 넘어오는 감정을 label로 같이 저장"
   ]
  },
  {
   "cell_type": "code",
   "execution_count": 8,
   "metadata": {
    "executionInfo": {
     "elapsed": 621,
     "status": "ok",
     "timestamp": 1649032019241,
     "user": {
      "displayName": "­차수빈(자연과학대학 통계학과)",
      "userId": "04143732765415957561"
     },
     "user_tz": -540
    },
    "id": "C2sVAsKqvZ3T"
   },
   "outputs": [],
   "source": [
    "put_label(angry,'angry')\n",
    "put_label(disgust,'disgust')\n",
    "put_label(fear,'fear')\n",
    "put_label(happy,'happy')\n",
    "put_label(neutral,'neutral')\n",
    "put_label(sad,'sad')\n",
    "put_label(surprise,'surprise')"
   ]
  },
  {
   "cell_type": "code",
   "execution_count": 9,
   "metadata": {
    "colab": {
     "base_uri": "https://localhost:8080/",
     "height": 424
    },
    "executionInfo": {
     "elapsed": 418,
     "status": "ok",
     "timestamp": 1649032022595,
     "user": {
      "displayName": "­차수빈(자연과학대학 통계학과)",
      "userId": "04143732765415957561"
     },
     "user_tz": -540
    },
    "id": "Z6vKWnPoxGqv",
    "outputId": "01ce3ef6-0d38-4e10-9384-998d29f06840"
   },
   "outputs": [
    {
     "data": {
      "text/html": [
       "<div>\n",
       "<style scoped>\n",
       "    .dataframe tbody tr th:only-of-type {\n",
       "        vertical-align: middle;\n",
       "    }\n",
       "\n",
       "    .dataframe tbody tr th {\n",
       "        vertical-align: top;\n",
       "    }\n",
       "\n",
       "    .dataframe thead th {\n",
       "        text-align: right;\n",
       "    }\n",
       "</style>\n",
       "<table border=\"1\" class=\"dataframe\">\n",
       "  <thead>\n",
       "    <tr style=\"text-align: right;\">\n",
       "      <th></th>\n",
       "      <th>file_name</th>\n",
       "      <th>emotion</th>\n",
       "    </tr>\n",
       "  </thead>\n",
       "  <tbody>\n",
       "    <tr>\n",
       "      <th>0</th>\n",
       "      <td>angry_000</td>\n",
       "      <td>angry</td>\n",
       "    </tr>\n",
       "    <tr>\n",
       "      <th>1</th>\n",
       "      <td>angry_001</td>\n",
       "      <td>angry</td>\n",
       "    </tr>\n",
       "    <tr>\n",
       "      <th>2</th>\n",
       "      <td>angry_002</td>\n",
       "      <td>angry</td>\n",
       "    </tr>\n",
       "    <tr>\n",
       "      <th>3</th>\n",
       "      <td>angry_003</td>\n",
       "      <td>angry</td>\n",
       "    </tr>\n",
       "    <tr>\n",
       "      <th>4</th>\n",
       "      <td>angry_004</td>\n",
       "      <td>angry</td>\n",
       "    </tr>\n",
       "    <tr>\n",
       "      <th>...</th>\n",
       "      <td>...</td>\n",
       "      <td>...</td>\n",
       "    </tr>\n",
       "    <tr>\n",
       "      <th>17712</th>\n",
       "      <td>surprise_995</td>\n",
       "      <td>surprise</td>\n",
       "    </tr>\n",
       "    <tr>\n",
       "      <th>17713</th>\n",
       "      <td>surprise_996</td>\n",
       "      <td>surprise</td>\n",
       "    </tr>\n",
       "    <tr>\n",
       "      <th>17714</th>\n",
       "      <td>surprise_997</td>\n",
       "      <td>surprise</td>\n",
       "    </tr>\n",
       "    <tr>\n",
       "      <th>17715</th>\n",
       "      <td>surprise_998</td>\n",
       "      <td>surprise</td>\n",
       "    </tr>\n",
       "    <tr>\n",
       "      <th>17716</th>\n",
       "      <td>surprise_999</td>\n",
       "      <td>surprise</td>\n",
       "    </tr>\n",
       "  </tbody>\n",
       "</table>\n",
       "<p>17717 rows × 2 columns</p>\n",
       "</div>"
      ],
      "text/plain": [
       "          file_name   emotion\n",
       "0         angry_000     angry\n",
       "1         angry_001     angry\n",
       "2         angry_002     angry\n",
       "3         angry_003     angry\n",
       "4         angry_004     angry\n",
       "...             ...       ...\n",
       "17712  surprise_995  surprise\n",
       "17713  surprise_996  surprise\n",
       "17714  surprise_997  surprise\n",
       "17715  surprise_998  surprise\n",
       "17716  surprise_999  surprise\n",
       "\n",
       "[17717 rows x 2 columns]"
      ]
     },
     "execution_count": 9,
     "metadata": {},
     "output_type": "execute_result"
    }
   ],
   "source": [
    "# Dataframe으로 만들기\n",
    "colnames = ['file_name','emotion']  \n",
    "\n",
    "feelings_df= pd.DataFrame(feeling_images,columns = colnames)\n",
    "feelings_df"
   ]
  },
  {
   "cell_type": "markdown",
   "metadata": {
    "id": "ZlHxSahoq0U5"
   },
   "source": [
    "# **4. 교차 검증**\n",
    "- 별도의 여러 세트로 구성된 학습 데이터 세트와 검증 데이터 세트에서 학습과 평가를 수행하는 것\n",
    "- 대부분의 ML 모델의 성능을 평가할 때는 교차 검증 결과를 기반으로 1차적 평가를 한 후, 최종적으로 테스트 데이터 세트에 적용해 평가를 하는 방식이다."
   ]
  },
  {
   "cell_type": "markdown",
   "metadata": {
    "id": "WZLYrWEbsHb9"
   },
   "source": [
    "### **4-1. Stratified K Fold**\n",
    "- 불균형한(imbalanced) 분포도를 가진 label 데이터 집합을 위한 KFold 방식\n",
    "- Stratified K Fold는 원본 데이터의 레이블 분포를 먼저 고려한 뒤, 이 분포와 동일하게 train/test data set를 분배해준다.\n",
    "- 학습 데이터와 검증 데이터 세트가 가지는 레이블의 분포도가 유사하도록 test data를 추출한다.\n",
    "> 이렇게 하면 scikitlearn을 이용하여 train_data와 test_data로 나누는 과정은 생략되어도 될 듯함.(여기서 이미 해주고 있으니..?)"
   ]
  },
  {
   "cell_type": "code",
   "execution_count": 10,
   "metadata": {
    "executionInfo": {
     "elapsed": 502,
     "status": "ok",
     "timestamp": 1649032031527,
     "user": {
      "displayName": "­차수빈(자연과학대학 통계학과)",
      "userId": "04143732765415957561"
     },
     "user_tz": -540
    },
    "id": "gjgF5in3s2lJ"
   },
   "outputs": [],
   "source": [
    "# 교차검증을 위한 모듈\n",
    "from sklearn.model_selection import StratifiedKFold "
   ]
  },
  {
   "cell_type": "code",
   "execution_count": 11,
   "metadata": {
    "colab": {
     "base_uri": "https://localhost:8080/"
    },
    "executionInfo": {
     "elapsed": 521,
     "status": "ok",
     "timestamp": 1649032033986,
     "user": {
      "displayName": "­차수빈(자연과학대학 통계학과)",
      "userId": "04143732765415957561"
     },
     "user_tz": -540
    },
    "id": "0LMUNkSXs3QQ",
    "outputId": "6bca985c-e138-44cb-f4b9-891705d5928d"
   },
   "outputs": [
    {
     "name": "stdout",
     "output_type": "stream",
     "text": [
      "[    0     1     3 ... 17714 17715 17716] [    2     5    15 ... 17701 17709 17711] 3544\n",
      "[    0     1     2 ... 17714 17715 17716] [    4     8    16 ... 17705 17706 17713] 3544\n",
      "[    0     1     2 ... 17713 17714 17715] [    9    11    12 ... 17703 17704 17716] 3543\n",
      "[    0     1     2 ... 17714 17715 17716] [    3     6    10 ... 17702 17707 17708] 3543\n",
      "[    2     3     4 ... 17711 17713 17716] [    0     1     7 ... 17712 17714 17715] 3543\n"
     ]
    }
   ],
   "source": [
    "skf = StratifiedKFold(n_splits = 5, shuffle = True, random_state = 42) \n",
    "\n",
    "feelings_df['fold'] = -1 # 초기값으로 fold에 아무런 영향이 없는 값 설정\n",
    "\n",
    "for idx, (t,v) in enumerate(skf.split(feelings_df,feelings_df['emotion']),1):  # 1의 의미: fold값을 1번부터 시작하겠다.\n",
    "    print(t,v,len(v))\n",
    "    feelings_df.loc[v,'fold'] = idx"
   ]
  },
  {
   "cell_type": "code",
   "execution_count": 12,
   "metadata": {
    "colab": {
     "base_uri": "https://localhost:8080/",
     "height": 424
    },
    "executionInfo": {
     "elapsed": 16,
     "status": "ok",
     "timestamp": 1649032037494,
     "user": {
      "displayName": "­차수빈(자연과학대학 통계학과)",
      "userId": "04143732765415957561"
     },
     "user_tz": -540
    },
    "id": "Y0pDdqAv7Gm1",
    "outputId": "9578a4ec-c888-4da5-f2c5-a5224c3e8ed2"
   },
   "outputs": [
    {
     "data": {
      "text/html": [
       "<div>\n",
       "<style scoped>\n",
       "    .dataframe tbody tr th:only-of-type {\n",
       "        vertical-align: middle;\n",
       "    }\n",
       "\n",
       "    .dataframe tbody tr th {\n",
       "        vertical-align: top;\n",
       "    }\n",
       "\n",
       "    .dataframe thead th {\n",
       "        text-align: right;\n",
       "    }\n",
       "</style>\n",
       "<table border=\"1\" class=\"dataframe\">\n",
       "  <thead>\n",
       "    <tr style=\"text-align: right;\">\n",
       "      <th></th>\n",
       "      <th>file_name</th>\n",
       "      <th>emotion</th>\n",
       "      <th>fold</th>\n",
       "    </tr>\n",
       "  </thead>\n",
       "  <tbody>\n",
       "    <tr>\n",
       "      <th>0</th>\n",
       "      <td>angry_000</td>\n",
       "      <td>angry</td>\n",
       "      <td>5</td>\n",
       "    </tr>\n",
       "    <tr>\n",
       "      <th>1</th>\n",
       "      <td>angry_001</td>\n",
       "      <td>angry</td>\n",
       "      <td>5</td>\n",
       "    </tr>\n",
       "    <tr>\n",
       "      <th>2</th>\n",
       "      <td>angry_002</td>\n",
       "      <td>angry</td>\n",
       "      <td>1</td>\n",
       "    </tr>\n",
       "    <tr>\n",
       "      <th>3</th>\n",
       "      <td>angry_003</td>\n",
       "      <td>angry</td>\n",
       "      <td>4</td>\n",
       "    </tr>\n",
       "    <tr>\n",
       "      <th>4</th>\n",
       "      <td>angry_004</td>\n",
       "      <td>angry</td>\n",
       "      <td>2</td>\n",
       "    </tr>\n",
       "    <tr>\n",
       "      <th>...</th>\n",
       "      <td>...</td>\n",
       "      <td>...</td>\n",
       "      <td>...</td>\n",
       "    </tr>\n",
       "    <tr>\n",
       "      <th>17712</th>\n",
       "      <td>surprise_995</td>\n",
       "      <td>surprise</td>\n",
       "      <td>5</td>\n",
       "    </tr>\n",
       "    <tr>\n",
       "      <th>17713</th>\n",
       "      <td>surprise_996</td>\n",
       "      <td>surprise</td>\n",
       "      <td>2</td>\n",
       "    </tr>\n",
       "    <tr>\n",
       "      <th>17714</th>\n",
       "      <td>surprise_997</td>\n",
       "      <td>surprise</td>\n",
       "      <td>5</td>\n",
       "    </tr>\n",
       "    <tr>\n",
       "      <th>17715</th>\n",
       "      <td>surprise_998</td>\n",
       "      <td>surprise</td>\n",
       "      <td>5</td>\n",
       "    </tr>\n",
       "    <tr>\n",
       "      <th>17716</th>\n",
       "      <td>surprise_999</td>\n",
       "      <td>surprise</td>\n",
       "      <td>3</td>\n",
       "    </tr>\n",
       "  </tbody>\n",
       "</table>\n",
       "<p>17717 rows × 3 columns</p>\n",
       "</div>"
      ],
      "text/plain": [
       "          file_name   emotion  fold\n",
       "0         angry_000     angry     5\n",
       "1         angry_001     angry     5\n",
       "2         angry_002     angry     1\n",
       "3         angry_003     angry     4\n",
       "4         angry_004     angry     2\n",
       "...             ...       ...   ...\n",
       "17712  surprise_995  surprise     5\n",
       "17713  surprise_996  surprise     2\n",
       "17714  surprise_997  surprise     5\n",
       "17715  surprise_998  surprise     5\n",
       "17716  surprise_999  surprise     3\n",
       "\n",
       "[17717 rows x 3 columns]"
      ]
     },
     "execution_count": 12,
     "metadata": {},
     "output_type": "execute_result"
    }
   ],
   "source": [
    "feelings_df"
   ]
  },
  {
   "cell_type": "code",
   "execution_count": 13,
   "metadata": {
    "colab": {
     "base_uri": "https://localhost:8080/",
     "height": 297
    },
    "executionInfo": {
     "elapsed": 462,
     "status": "ok",
     "timestamp": 1649032043093,
     "user": {
      "displayName": "­차수빈(자연과학대학 통계학과)",
      "userId": "04143732765415957561"
     },
     "user_tz": -540
    },
    "id": "et3-nFFaxzEo",
    "outputId": "4511e880-b02e-469e-befa-902317851bd0"
   },
   "outputs": [
    {
     "data": {
      "image/png": "[encoded data removed]",
      "text/plain": [
       "<Figure size 432x288 with 1 Axes>"
      ]
     },
     "metadata": {
      "needs_background": "light"
     },
     "output_type": "display_data"
    }
   ],
   "source": [
    "# 시각화를 통해 train dataset과 test dataset이 분배된 양상 파악하기\n",
    "value_counts = feelings_df[feelings_df['fold'] != 5]['emotion'].value_counts().sort_index()\n",
    "\n",
    "plt.bar(range(len(value_counts)),value_counts.values,align = \"center\")\n",
    "plt.xticks(range(len(value_counts)),value_counts.index.values)\n",
    "\n",
    "plt.tight_layout()\n",
    "plt.show()"
   ]
  },
  {
   "cell_type": "code",
   "execution_count": 14,
   "metadata": {
    "executionInfo": {
     "elapsed": 418,
     "status": "ok",
     "timestamp": 1649032067781,
     "user": {
      "displayName": "­차수빈(자연과학대학 통계학과)",
      "userId": "04143732765415957561"
     },
     "user_tz": -540
    },
    "id": "huGw9lGeyPOp"
   },
   "outputs": [],
   "source": [
    "# 정리된 dataframe을 csv 파일로 내보내기\n",
    "# 앞에 붙여진 index를 날리고 저장\n",
    "feelings_df.to_csv('feelings_skfold2.csv',index = False)"
   ]
  }
 ],
 "metadata": {
  "colab": {
   "collapsed_sections": [],
   "name": "1_dataset 준비하기_ver2(0329).ipynb",
   "provenance": []
  },
  "kernelspec": {
   "display_name": "Python 3 (ipykernel)",
   "language": "python",
   "name": "python3"
  },
  "language_info": {
   "codemirror_mode": {
    "name": "ipython",
    "version": 3
   },
   "file_extension": ".py",
   "mimetype": "text/x-python",
   "name": "python",
   "nbconvert_exporter": "python",
   "pygments_lexer": "ipython3",
   "version": "3.8.9"
  }
 },
 "nbformat": 4,
 "nbformat_minor": 1
}
