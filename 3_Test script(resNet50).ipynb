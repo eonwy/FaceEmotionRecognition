{
 "cells": [
  {
   "cell_type": "code",
   "execution_count": 1,
   "id": "9582319f",
   "metadata": {},
   "outputs": [],
   "source": [
    "# 필요한 모듈 import하기\n",
    "from keras.utils import np_utils\n",
    "from keras.datasets import mnist\n",
    "from keras.models import Sequential\n",
    "from keras.layers import Dense, Activation\n",
    "import numpy as np\n",
    "from numpy import argmax\n",
    "from keras.models import load_model\n",
    "\n",
    "import tensorflow_hub as hub"
   ]
  },
  {
   "cell_type": "code",
   "execution_count": 2,
   "id": "ce6904a7",
   "metadata": {
    "scrolled": true
   },
   "outputs": [
    {
     "name": "stdout",
     "output_type": "stream",
     "text": [
      "Model: \"sequential\"\n",
      "_________________________________________________________________\n",
      " Layer (type)                Output Shape              Param #   \n",
      "=================================================================\n",
      " keras_layer (KerasLayer)    (None, 1001)              25615849  \n",
      "                                                                 \n",
      " dense (Dense)               (None, 7)                 7014      \n",
      "                                                                 \n",
      "=================================================================\n",
      "Total params: 25,622,863\n",
      "Trainable params: 25,577,423\n",
      "Non-trainable params: 45,440\n",
      "_________________________________________________________________\n"
     ]
    }
   ],
   "source": [
    "# 이전에 학습된 모델 불러오기 \n",
    "model = load_model('emotion_model_resNet50.h5',custom_objects={'KerasLayer':hub.KerasLayer})\n",
    "model.summary()"
   ]
  },
  {
   "cell_type": "code",
   "execution_count": 3,
   "id": "b11786da",
   "metadata": {},
   "outputs": [],
   "source": [
    "# 이미지 파일을 위한 라이브러리\n",
    "import os\n",
    "from PIL import Image\n",
    "import glob\n",
    "from tensorflow.keras.applications.resnet50 import preprocess_input, decode_predictions\n",
    "from tensorflow.keras.preprocessing.image import load_img, img_to_array\n",
    "import matplotlib.pyplot as plt"
   ]
  },
  {
   "cell_type": "code",
   "execution_count": 6,
   "id": "6e20dbf7",
   "metadata": {},
   "outputs": [],
   "source": [
    "# 이미지 파일의 경로 설정하기\n",
    "path = 'datasets_test'\n",
    "img_li = glob.glob(path+\"\\\\*\")\n",
    "\n",
    "img_path = img_li[13] # 하나의 사진을 가지고 testing\n",
    "\n",
    "img = load_img(img_path, target_size = (48,48))\n",
    "\n",
    "# Model에 입력하기 전에 이미지 전처리\n",
    "model_img = img_to_array(img)\n",
    "model_img = np.expand_dims(model_img, axis=0) \n",
    "model_img = preprocess_input(model_img)"
   ]
  },
  {
   "cell_type": "code",
   "execution_count": 7,
   "id": "6990c863",
   "metadata": {},
   "outputs": [
    {
     "name": "stdout",
     "output_type": "stream",
     "text": [
      "datasets_test\\surprise_test2.jpg\n",
      "[[0. 0. 0. 0. 1. 0. 0.]]\n",
      "[4]\n",
      "model이 예측한 값은 neutral입니다.\n"
     ]
    }
   ],
   "source": [
    "preds = model.predict(model_img) \n",
    "emotion_idx = np.argmax(preds,-1)\n",
    "\n",
    "if emotion_idx == 0:\n",
    "    emotion = 'angry'\n",
    "elif emotion_idx == 1:\n",
    "    emotion = 'disgust'\n",
    "elif emotion_idx == 2:\n",
    "    emotion = 'fear'\n",
    "elif emotion_idx == 3:\n",
    "    emotion = 'happy'\n",
    "elif emotion_idx == 4:\n",
    "    emotion = 'neutral'\n",
    "elif emotion_idx == 5:\n",
    "    emotion = 'sad'\n",
    "elif emotion_idx == 6:\n",
    "    emotion = 'surprise'\n",
    "\n",
    "print(img_path)\n",
    "print(preds)\n",
    "print(emotion_idx)\n",
    "print('model이 예측한 값은 {}입니다.'.format(emotion))"
   ]
  },
  {
   "cell_type": "code",
   "execution_count": 10,
   "id": "12ce6925",
   "metadata": {},
   "outputs": [
    {
     "name": "stdout",
     "output_type": "stream",
     "text": [
      "model이 예측한 1번쨰 사진의 감정은 neutral입니다.\n",
      "model이 예측한 2번쨰 사진의 감정은 neutral입니다.\n",
      "model이 예측한 3번쨰 사진의 감정은 neutral입니다.\n",
      "model이 예측한 4번쨰 사진의 감정은 neutral입니다.\n",
      "model이 예측한 5번쨰 사진의 감정은 neutral입니다.\n",
      "model이 예측한 6번쨰 사진의 감정은 neutral입니다.\n",
      "model이 예측한 7번쨰 사진의 감정은 neutral입니다.\n",
      "model이 예측한 8번쨰 사진의 감정은 neutral입니다.\n",
      "model이 예측한 9번쨰 사진의 감정은 neutral입니다.\n",
      "model이 예측한 10번쨰 사진의 감정은 neutral입니다.\n",
      "model이 예측한 11번쨰 사진의 감정은 neutral입니다.\n",
      "model이 예측한 12번쨰 사진의 감정은 neutral입니다.\n",
      "model이 예측한 13번쨰 사진의 감정은 neutral입니다.\n",
      "model이 예측한 14번쨰 사진의 감정은 neutral입니다.\n"
     ]
    }
   ],
   "source": [
    "# 이미지 파일의 경로 설정하기\n",
    "path = 'datasets_test'\n",
    "img_li = glob.glob(path+\"\\\\*\")\n",
    "\n",
    "for i in range(len(img_li)):\n",
    "    img_path = img_li[i]\n",
    "    img = load_img(img_path, target_size = (48,48)) # 이미지 형태 맞춰주기 위해 keras 모듈의 함수 사용함\n",
    "\n",
    "    # Model에 입력하기 전에 이미지 전처리\n",
    "    model_img = img_to_array(img) # 배열 형태로 변환\n",
    "    model_img = np.expand_dims(model_img, axis=0) # 차원 증폭(왜 하는진 모르겠지만..이거 하니 되더라고요..?!)\n",
    "    model_img = preprocess_input(model_img) # 이미지를 모델에 학습시키기 전 전처리\n",
    "    \n",
    "    preds = model.predict(model_img) # 예측값: one-hot encoding 형태로 나온다.\n",
    "    emotion_idx = np.argmax(preds,-1) # 인덱스 값 돌려줌.(몇 번쨰가 1인지 = 해당 감정인지)\n",
    "    \n",
    "    # 인덱스에 따라 감정 매칭\n",
    "    # 어떻게 간단히 할 수 있는지는 조금 고민이에요..\n",
    "    \n",
    "    if emotion_idx == 0:\n",
    "        emotion = 'angry'\n",
    "    elif emotion_idx == 1:\n",
    "        emotion = 'disgust'\n",
    "    elif emotion_idx == 2:\n",
    "        emotion = 'fear'\n",
    "    elif emotion_idx == 3:\n",
    "        emotion = 'happy'\n",
    "    elif emotion_idx == 4:\n",
    "        emotion = 'neutral'\n",
    "    elif emotion_idx == 5:\n",
    "        emotion = 'sad'\n",
    "    elif emotion_idx == 6:\n",
    "        emotion = 'surprise'\n",
    "        \n",
    "    print('model이 예측한 {}번쨰 사진의 감정은 {}입니다.'.format((i+1),emotion))"
   ]
  },
  {
   "cell_type": "markdown",
   "id": "87ab0afb",
   "metadata": {},
   "source": [
    "왜..다....neutral..?\n",
    "(val_accuracy가 0.59대를 못 벗어날 때부터 알아봤어..'^';)"
   ]
  }
 ],
 "metadata": {
  "kernelspec": {
   "display_name": "Python 3 (ipykernel)",
   "language": "python",
   "name": "python3"
  },
  "language_info": {
   "codemirror_mode": {
    "name": "ipython",
    "version": 3
   },
   "file_extension": ".py",
   "mimetype": "text/x-python",
   "name": "python",
   "nbconvert_exporter": "python",
   "pygments_lexer": "ipython3",
   "version": "3.8.9"
  }
 },
 "nbformat": 4,
 "nbformat_minor": 5
}
